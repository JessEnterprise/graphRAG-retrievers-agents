{
 "cells": [
  {
   "cell_type": "markdown",
   "id": "3c97c6c9",
   "metadata": {},
   "source": [
    "# Vector Retriever\n",
    "\n",
    "You will create a vector retriever using the Neo4j GraphRAG Python package.\n",
    "\n",
    "You will be able to review how the vector index is used to retrieve similar results and how the context can be used by an LLM to provide a response.\n",
    "\n",
    "---\n",
    "\n",
    "Import the required Python modules and load the environment variables."
   ]
  },
  {
   "cell_type": "code",
   "execution_count": 1,
   "id": "744cacb9",
   "metadata": {},
   "outputs": [],
   "source": [
    "from neo4j import GraphDatabase\n",
    "from neo4j_graphrag.llm import OpenAILLM\n",
    "from neo4j_graphrag.embeddings import OpenAIEmbeddings\n",
    "from neo4j_graphrag.retrievers import VectorRetriever\n",
    "from neo4j_graphrag.generation import GraphRAG\n",
    "\n",
    "# Load environment variables\n",
    "import os\n",
    "from dotenv import load_dotenv\n",
    "load_dotenv()\n",
    "\n",
    "NEO4J_URI = os.getenv('NEO4J_URI')\n",
    "NEO4J_USER = os.getenv('NEO4J_USERNAME')\n",
    "NEO4J_PASSWORD = os.getenv('NEO4J_PASSWORD')\n",
    "NEO4J_DATABASE = os.getenv('NEO4J_DATABASE')\n",
    "OPENAI_API_KEY = os.getenv('OPENAI_API_KEY')"
   ]
  },
  {
   "cell_type": "markdown",
   "id": "38f0c669",
   "metadata": {},
   "source": [
    "Create and verify the connection to your Neo4j graph database."
   ]
  },
  {
   "cell_type": "code",
   "execution_count": 2,
   "id": "dd6f40e1",
   "metadata": {},
   "outputs": [],
   "source": [
    "driver = GraphDatabase.driver(\n",
    "    NEO4J_URI, \n",
    "    auth=(\n",
    "        NEO4J_USER, \n",
    "        NEO4J_PASSWORD\n",
    "    ))\n",
    "driver.verify_connectivity()"
   ]
  },
  {
   "cell_type": "markdown",
   "id": "d6c1f84e",
   "metadata": {},
   "source": [
    "## Initialize LLM and Embedder\n",
    "\n",
    "Set up the Large Language Model (LLM) and the embedding model you will use in retrieval-augmented generation (RAG) workflows.\n",
    "\n",
    "- **LLM**: Uses OpenAI's GPT-4o model via the `OpenAILLM` interface.\n",
    "- **Embedder**: Uses OpenAI's embedding API via the `OpenAIEmbeddings` class."
   ]
  },
  {
   "cell_type": "code",
   "execution_count": 4,
   "id": "b72ea6ea",
   "metadata": {},
   "outputs": [
    {
     "data": {
      "text/plain": [
       "<neo4j_graphrag.embeddings.openai.OpenAIEmbeddings at 0x21cf4b9cb10>"
      ]
     },
     "execution_count": 4,
     "metadata": {},
     "output_type": "execute_result"
    }
   ],
   "source": [
    "# --- Initialize LLM and Embedder ---\n",
    "llm = OpenAILLM(model_name='gpt-4o', api_key=OPENAI_API_KEY)\n",
    "embedder = OpenAIEmbeddings(api_key=OPENAI_API_KEY)\n",
    "embedder"
   ]
  },
  {
   "cell_type": "markdown",
   "id": "529561f2",
   "metadata": {},
   "source": [
    "## Initialize Vector Retriever\n",
    "\n",
    "Set up the vector-based retriever for semantic search over your Neo4j knowledge graph.\n",
    "\n",
    "> Vector search enables semantic retrieval of text chunks from your Neo4j graph.  \n",
    "> Instead of keyword matching, it finds the most contextually similar passages to your query, even if the wording is different."
   ]
  },
  {
   "cell_type": "code",
   "execution_count": 6,
   "id": "39186c1f",
   "metadata": {},
   "outputs": [],
   "source": [
    "# --- Initialize Vector Retriever ---\n",
    "vector_retriever = VectorRetriever(\n",
    "    driver=driver,\n",
    "    index_name='chunkEmbeddings',\n",
    "    embedder=embedder,\n",
    "    return_properties=['text'])"
   ]
  },
  {
   "cell_type": "markdown",
   "id": "1c37ff54",
   "metadata": {},
   "source": [
    "The **VectorRetriever** class:\n",
    "- Connects to the Neo4j database using the provided `driver`.\n",
    "- Uses the `chunkEmbeddings` vector index for efficient semantic retrieval.\n",
    "- The `embedder` generates embeddings for the query.\n",
    "- Returns the `text` property from matching chunks.\n",
    "\n",
    "> **Tip:**  \n",
    "> You can modify the `return_properties` list to include additional properties from the retrieved nodes.\n",
    "\n",
    "# Simple Vector Search Diagnostic \n",
    "\n",
    "You can use the vector retriever to search for semantically similar data.\n",
    "\n",
    "Test the vector search by retrieving the top 10 most relevant text chunks from the Neo4j knowledge graph for the given query."
   ]
  },
  {
   "cell_type": "code",
   "execution_count": 7,
   "id": "7b5e5634",
   "metadata": {},
   "outputs": [
    {
     "name": "stdout",
     "output_type": "stream",
     "text": [
      "Score: 0.9168, Content: {'text': \"the Company to potential liabilities, increased costs, reputational harm, and other\\nadver..., id: 4:561e1efb-9f89-4f78-b62a-54811093b9fa:3469\n",
      "Score: 0.9159, Content: {'text': \"the Company to potential liabilities, increased costs, reputational harm, and other\\nadver..., id: 4:561e1efb-9f89-4f78-b62a-54811093b9fa:3468\n",
      "Score: 0.9138, Content: {'text': \"relief against the Company, and has\\nfrom time to time required, and can in the future req..., id: 4:561e1efb-9f89-4f78-b62a-54811093b9fa:3467\n",
      "Score: 0.9121, Content: {'text': \"relief against the Company, and has\\nfrom time to time required, and can in the future req..., id: 4:561e1efb-9f89-4f78-b62a-54811093b9fa:3465\n",
      "Score: 0.9116, Content: {'text': \" in both\\nfrequency and sophistication with increasing use by actors of tools and techniqu..., id: 4:561e1efb-9f89-4f78-b62a-54811093b9fa:3464\n",
      "Score: 0.9114, Content: {'text': \"interruptions can harm or disrupt international\\ncommerce and the global economy, and coul..., id: 4:561e1efb-9f89-4f78-b62a-54811093b9fa:3445\n",
      "Score: 0.9110, Content: {'text': \"interruptions can harm or disrupt international\\ncommerce and the global economy, and coul..., id: 4:561e1efb-9f89-4f78-b62a-54811093b9fa:3443\n",
      "Score: 0.9108, Content: {'text': \" in both\\nfrequency and sophistication with increasing use by actors of tools and techniqu..., id: 4:561e1efb-9f89-4f78-b62a-54811093b9fa:3461\n",
      "Score: 0.9099, Content: {'text': 'impact the Company\\'s net sales to its indirect distribution\\nchannels as these channels a..., id: 4:561e1efb-9f89-4f78-b62a-54811093b9fa:3442\n",
      "Score: 0.9096, Content: {'text': 'intended to be inactive\\ntextual references only.\\nApple Inc. | 2023 Form 10-K | 4\\nSectio..., id: 4:561e1efb-9f89-4f78-b62a-54811093b9fa:3444\n"
     ]
    }
   ],
   "source": [
    "# --- Simple Vector Search ---\n",
    "query = \"What are the risks that Apple faces?\"\n",
    "result = vector_retriever.search(query_text=query, top_k=10)\n",
    "for item in result.items:\n",
    "    print(f\"Score: {item.metadata['score']:.4f}, Content: {item.content[0:100]}..., id: {item.metadata['id']}\")"
   ]
  },
  {
   "cell_type": "markdown",
   "id": "cd98d5e7",
   "metadata": {},
   "source": [
    "\n",
    "**How it works:**  \n",
    "1. The example `query`, \"What are the risks that Apple faces?\", is created\n",
    "2. `vector_retriever.search()` runs the query and returns the top 10 matches based on vector similarity.\n",
    "3. The results are formatted displaying:\n",
    "    * The similarity score (`Score`)\n",
    "    * A snippet of the retrieved content (`Content`)\n",
    "    * The unique identifier for each chunk (`id`)\n",
    "\n",
    "This diagnostic helps you verify that the vector search is working and inspect the quality of the top results for your query.\n",
    "\n",
    "> **Tip:**\n",
    "> Inspecting the returned results to verify relevance can help you to adjust your chunking or embedding strategy."
   ]
  },
  {
   "cell_type": "markdown",
   "id": "e48b79b8",
   "metadata": {},
   "source": [
    "## Retrieval-Augmented Generation (RAG) Query\n",
    "\n",
    "You can use the `GraphRAG` class to create a retrieval-augmented generation (RAG) pipeline.\n",
    "\n",
    "The `GraphRAG` class combines a Large Language Model (LLM) with a vector-based retriever to answer questions using both semantic search and generative reasoning."
   ]
  },
  {
   "cell_type": "code",
   "execution_count": 8,
   "id": "1be6ef8a",
   "metadata": {},
   "outputs": [
    {
     "name": "stderr",
     "output_type": "stream",
     "text": [
      "[#F77E]  _: <CONNECTION> error: Failed to read from defunct connection ResolvedIPv4Address(('18.234.199.165', 7687)) (ResolvedIPv4Address(('18.234.199.165', 7687))): ConnectionResetError(10054, 'An existing connection was forcibly closed by the remote host', None, 10054, None)\n",
      "Unable to retrieve routing information\n",
      "Transaction failed and will be retried in 1.0277796194789013s (Unable to retrieve routing information)\n"
     ]
    },
    {
     "name": "stdout",
     "output_type": "stream",
     "text": [
      "Apple faces several risks, including:\n",
      "\n",
      "1. **Environmental, Social, and Governance (ESG) Considerations**: Apple is under pressure from various stakeholders to meet ESG goals, including climate change initiatives, diversity, and inclusion. Failing to meet these goals can lead to legal and regulatory proceedings and harm Apple’s reputation and financial condition.\n",
      "\n",
      "2. **Regulatory and Legal Challenges**: Apple is subject to intense media, political, and regulatory scrutiny. Future changes in legislation related to the App Store, such as compliance with the EU Digital Markets Act by March 2024, may require Apple to alter its business practices, potentially impacting its financial performance.\n",
      "\n",
      "3. **Antitrust Investigations**: Apple faces antitrust investigations worldwide. Adverse findings could lead to significant fines and required changes to its business practices, particularly related to the App Store, which could negatively impact Apple’s business and financial health.\n",
      "\n",
      "4. **Compliance with Global Laws and Regulations**: Apple’s operations must comply with complex and changing laws in various domains like antitrust, data security, consumer protection, and more. Non-compliance could result in increased costs, legal sanctions, and harm to Apple's business and reputation.\n",
      "\n",
      "5. **Security Risks**: Apple is a target for cyber-attacks due to its high profile. Although it has implemented protective systems, these measures might not be foolproof, leading to potential data breaches that could damage its reputation and financial standing.\n",
      "\n",
      "6. **Investment and Acquisition Risks**: Investing in new business strategies or acquisitions involves risks such as management distraction, liabilities, regulatory challenges, and inadequate returns, which could adversely affect Apple’s operations and financial condition.\n",
      "\n",
      "7. **Retail Store Risks**: Macro-economic factors and the ability to manage costs effectively pose risks to Apple's retail operations, which could affect its overall business and financial condition.\n"
     ]
    }
   ],
   "source": [
    "# --- Initialize RAG and Perform Search ---\n",
    "query = \"What are the risks that Apple faces?\"\n",
    "rag = GraphRAG(\n",
    "    llm=llm,\n",
    "    retriever=vector_retriever\n",
    ")\n",
    "response = rag.search(query)\n",
    "\n",
    "print(response.answer)"
   ]
  },
  {
   "cell_type": "markdown",
   "id": "784c6dd8",
   "metadata": {},
   "source": [
    "- **How it works:**  \n",
    "  1. The retriever (`vector_retriever`) finds the most relevant text chunks from the Neo4j graph based on the input query.\n",
    "  2. The LLM (`llm`) uses the retrieved context to generate a natural language answer.\n",
    "  3. The `rag` pipeline is used to `search`.\n",
    "  4. The `answer` in the `response` is printed\n",
    "\n",
    "The `GraphRAG` pipeline provides context-aware, accurate answers grounded in your knowledge graph data.\n",
    "\n",
    "---\n",
    "\n",
    "Experiment with the vector retriever by modifying the `query`, for example:\n",
    "- What products does Microsoft reference?\n",
    "- What warnings have Nvidia given?\n",
    "- What companies mention AI in their filings?\n",
    "\n",
    "[View the complete code](solutions/01_01_vector_retriever.py)\n",
    "\n",
    "[Move on to the Advanced RAG:Vector Cypher Retriever Notebook](01_02_vector_cypher_retriever.ipynb)"
   ]
  }
 ],
 "metadata": {
  "kernelspec": {
   "display_name": "Python 3",
   "language": "python",
   "name": "python3"
  },
  "language_info": {
   "codemirror_mode": {
    "name": "ipython",
    "version": 3
   },
   "file_extension": ".py",
   "mimetype": "text/x-python",
   "name": "python",
   "nbconvert_exporter": "python",
   "pygments_lexer": "ipython3",
   "version": "3.11.9"
  }
 },
 "nbformat": 4,
 "nbformat_minor": 5
}
