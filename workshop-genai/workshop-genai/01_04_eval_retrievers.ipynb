{
 "cells": [
  {
   "cell_type": "code",
   "execution_count": null,
   "id": "d359f43f",
   "metadata": {},
   "outputs": [],
   "source": [
    "import os, pandas as pd, numpy as np, time\n",
    "from dotenv import load_dotenv\n",
    "from neo4j import GraphDatabase\n",
    "\n",
    "from neo4j_graphrag.retrievers import VectorRetriever, VectorCypherRetriever, Text2CypherRetriever\n",
    "from neo4j_graphrag.llm import OpenAILLM\n",
    "from neo4j_graphrag.embeddings import OpenAIEmbeddings\n",
    "\n",
    "load_dotenv()\n",
    "uri = os.getenv(\"NEO4J_URI\")\n",
    "user = os.getenv(\"NEO4J_USERNAME\")\n",
    "pwd  = os.getenv(\"NEO4J_PASSWORD\")\n",
    "openai_key = os.getenv(\"OPENAI_API_KEY\")\n",
    "index_name = os.getenv(\"VECTOR_INDEX_NAME\", \"chunkEmbeddings\")\n",
    "\n",
    "driver = GraphDatabase.driver(uri, auth=(user, pwd))\n",
    "embedder = OpenAIEmbeddings(api_key=openai_key)\n",
    "llm = OpenAILLM(model_name=os.getenv(\"OPENAI_MODEL\",\"gpt-4o\"), api_key=openai_key)\n",
    "\n",
    "vector = VectorRetriever(driver=driver, index_name=index_name, embedder=embedder)\n",
    "hybrid = VectorCypherRetriever(driver=driver, index_name=index_name, retrieval_query=None, embedder=embedder)\n",
    "t2c    = Text2CypherRetriever(driver=driver, llm=llm, neo4j_schema=None)\n"
   ]
  },
  {
   "cell_type": "code",
   "execution_count": null,
   "id": "4ecda524",
   "metadata": {},
   "outputs": [],
   "source": [
    "tests = pd.DataFrame([\n",
    "    {\"id\":1, \"question\":\"What are the main cybersecurity threats in financial services?\", \"expected_tool\":\"vector\"},\n",
    "    {\"id\":2, \"question\":\"Which companies face regulatory challenges?\", \"expected_tool\":\"hybrid\"},\n",
    "    {\"id\":3, \"question\":\"How many companies mention cloud computing?\", \"expected_tool\":\"t2c\"},\n",
    "    {\"id\":4, \"question\":\"What products does Apple mention in their filings?\", \"expected_tool\":\"hybrid\"},\n",
    "    {\"id\":5, \"question\":\"Count the risk factors for Microsoft\", \"expected_tool\":\"t2c\"},\n",
    "])\n",
    "tests\n"
   ]
  },
  {
   "cell_type": "code",
   "execution_count": null,
   "id": "debcc8a2",
   "metadata": {},
   "outputs": [],
   "source": [
    "def run_all(q, k=5):\n",
    "    t0=time.time(); v = vector.retrieve(q, top_k=k); t1=time.time()\n",
    "    h = hybrid.retrieve(q, top_k=k); t2=time.time()\n",
    "    try:\n",
    "        c = t2c.retrieve(q); \n",
    "    except Exception as e:\n",
    "        c = {\"error\": str(e)}\n",
    "    t3=time.time()\n",
    "    return {\n",
    "        \"vector_hits\": len(v or []),\n",
    "        \"hybrid_hits\": len(h or []),\n",
    "        \"t2c_ok\": bool(c) and not c.get(\"error\"),\n",
    "        \"lat_vector_ms\": round((t1-t0)*1000,1),\n",
    "        \"lat_hybrid_ms\": round((t2-t1)*1000,1),\n",
    "        \"lat_t2c_ms\": round((t3-t2)*1000,1),\n",
    "        \"vector_sample\": (v or [{}])[0],\n",
    "        \"hybrid_sample\": (h or [{}])[0],\n",
    "        \"t2c_sample\": c,\n",
    "    }\n",
    "\n",
    "rows = []\n",
    "for _, r in tests.iterrows():\n",
    "    res = run_all(r[\"question\"])\n",
    "    res[\"id\"]=r[\"id\"]; res[\"question\"]=r[\"question\"]; res[\"expected_tool\"]=r[\"expected_tool\"]\n",
    "    # simple router guess\n",
    "    ql = r[\"question\"].lower()\n",
    "    router_guess = \"t2c\" if any(w in ql for w in [\"count\",\"how many\",\"list\",\"top \"]) else (\"hybrid\" if any(w in ql for w in [\"apple\",\"microsoft\",\"google\",\"aws\",\"azure\"]) else \"vector\")\n",
    "    res[\"router_guess\"]=router_guess\n",
    "    rows.append(res)\n",
    "\n",
    "eval_df = pd.DataFrame(rows)\n",
    "eval_df[[\"id\",\"question\",\"expected_tool\",\"router_guess\",\"vector_hits\",\"hybrid_hits\",\"t2c_ok\",\"lat_vector_ms\",\"lat_hybrid_ms\",\"lat_t2c_ms\"]]\n"
   ]
  },
  {
   "cell_type": "code",
   "execution_count": null,
   "id": "015e01b8",
   "metadata": {},
   "outputs": [],
   "source": [
    "def flag(row):\n",
    "    return \"✅\" if row[\"router_guess\"]==row[\"expected_tool\"] else \"⚠️\"\n",
    "eval_df.assign(match=eval_df.apply(flag, axis=1))[[\"id\",\"question\",\"expected_tool\",\"router_guess\",\"match\",\n",
    "                                                  \"vector_hits\",\"hybrid_hits\",\"t2c_ok\"]]\n"
   ]
  }
 ],
 "metadata": {
  "language_info": {
   "name": "python"
  }
 },
 "nbformat": 4,
 "nbformat_minor": 5
}
