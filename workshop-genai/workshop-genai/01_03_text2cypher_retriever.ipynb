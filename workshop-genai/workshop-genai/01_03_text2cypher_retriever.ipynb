{
 "cells": [
  {
   "cell_type": "markdown",
   "id": "2f067393",
   "metadata": {},
   "source": [
    "# Text2Cypher Retriever\n",
    "\n",
    "Vector retrievers are great for finding relevant data based on semantic similarity or keyword matching.\n",
    "\n",
    "To answer more specific questions, you may need to perform more complex queries to find data relating to specific nodes, relationships, or properties.\n",
    "\n",
    "For example, you want to find:\n",
    "- What asset manager owns a specific organization.\n",
    "- How many stock types there are.\n",
    "- What organizations are exposed to a certain risk factor. \n",
    "\n",
    "Text to Cypher retrievers allow you to convert natural language queries into Cypher queries that can be executed against the graph.\n",
    "\n",
    "---\n",
    "\n",
    "You will use the `Text2CypherRetriever` class to create a new retriever and use it in a `GraphRAG` pipeline.\n",
    "\n",
    "Import the required Python modules, load the environment variables, create the connection to the graph, the LLM, and the embedding model."
   ]
  },
  {
   "cell_type": "code",
   "execution_count": 1,
   "id": "4d6dccb0",
   "metadata": {},
   "outputs": [],
   "source": [
    "from neo4j import GraphDatabase\n",
    "from neo4j_graphrag.llm import OpenAILLM\n",
    "from neo4j_graphrag.embeddings import OpenAIEmbeddings\n",
    "from neo4j_graphrag.retrievers import Text2CypherRetriever\n",
    "from neo4j_graphrag.generation import GraphRAG\n",
    "from neo4j_graphrag.schema import get_schema\n",
    "\n",
    "# Load environment variables\n",
    "import os\n",
    "from dotenv import load_dotenv\n",
    "load_dotenv()\n",
    "NEO4J_URI = os.getenv('NEO4J_URI')\n",
    "NEO4J_USER = os.getenv('NEO4J_USERNAME')\n",
    "NEO4J_PASSWORD = os.getenv('NEO4J_PASSWORD')\n",
    "NEO4J_DATABASE = os.getenv('NEO4J_DATABASE')\n",
    "OPENAI_API_KEY = os.getenv('OPENAI_API_KEY')\n",
    "\n",
    "driver = GraphDatabase.driver(NEO4J_URI, auth=(NEO4J_USER, NEO4J_PASSWORD))\n",
    "\n",
    "# --- Initialize LLM and Embedder ---\n",
    "llm = OpenAILLM(model_name='gpt-4o', api_key=OPENAI_API_KEY)\n",
    "embedder = OpenAIEmbeddings(api_key=OPENAI_API_KEY)"
   ]
  },
  {
   "cell_type": "markdown",
   "id": "acf34348",
   "metadata": {},
   "source": [
    "\n",
    "The `Text2CypherRetriever` automatically generates Cypher queries from natural language questions.\n",
    "\n",
    "**How it works:**\n",
    "- The retriever uses a Large Language Model (LLM) to translate your plain-English query into a Cypher query, based on your Neo4j schema.\n",
    "- The schema is provided as a string describing the main node types and relationships in your graph (e.g., companies, risk factors, asset managers).\n",
    "\n",
    "You can view the schema using the `get_schema` method."
   ]
  },
  {
   "cell_type": "code",
   "execution_count": 2,
   "id": "05525d87",
   "metadata": {},
   "outputs": [
    {
     "name": "stdout",
     "output_type": "stream",
     "text": [
      "Node properties:\n",
      "Chunk {:ID: STRING, embedding: LIST, text: STRING}\n",
      "AssetManager {:ID: STRING, managerName: STRING}\n",
      "Company {:ID: STRING, name: STRING, ticker: STRING}\n",
      "Document {:ID: STRING, path: STRING}\n",
      "Executive {:ID: STRING, name: STRING}\n",
      "FinancialMetric {:ID: STRING, name: STRING}\n",
      "Product {:ID: STRING, name: STRING}\n",
      "RiskFactor {:ID: STRING, name: STRING}\n",
      "StockType {:ID: STRING, name: STRING}\n",
      "TimePeriod {:ID: STRING, name: STRING}\n",
      "Transaction {:ID: STRING, name: STRING}\n",
      "Relationship properties:\n",
      "OWNS {position_status: STRING}\n",
      "The relationships:\n",
      "(:Chunk)-[:NEXT_CHUNK]->(:Chunk)\n",
      "(:Chunk)-[:FROM_DOCUMENT]->(:Document)\n",
      "(:AssetManager)-[:OWNS]->(:Company)\n",
      "(:Company)-[:FACES_RISK]->(:RiskFactor)\n",
      "(:Company)-[:FILED]->(:Document)\n",
      "(:Company)-[:FROM_CHUNK]->(:Chunk)\n",
      "(:Company)-[:HAS_METRIC]->(:FinancialMetric)\n",
      "(:Company)-[:HAS_METRIC]->(:StockType)\n",
      "(:Company)-[:HAS_METRIC]->(:Product)\n",
      "(:Company)-[:HAS_METRIC]->(:TimePeriod)\n",
      "(:Company)-[:HAS_METRIC]->(:Executive)\n",
      "(:Company)-[:HAS_METRIC]->(:RiskFactor)\n",
      "(:Company)-[:HAS_METRIC]->(:Transaction)\n",
      "(:Company)-[:MENTIONS]->(:Executive)\n",
      "(:Company)-[:MENTIONS]->(:Product)\n",
      "(:Company)-[:MENTIONS]->(:TimePeriod)\n",
      "(:Company)-[:MENTIONS]->(:RiskFactor)\n",
      "(:Company)-[:MENTIONS]->(:Transaction)\n",
      "(:Company)-[:MENTIONS]->(:Company)\n",
      "(:Company)-[:ISSUED_STOCK]->(:StockType)\n",
      "(:Company)-[:ISSUED_STOCK]->(:FinancialMetric)\n",
      "(:Company)-[:ISSUED_STOCK]->(:Transaction)\n",
      "(:Executive)-[:FROM_CHUNK]->(:Chunk)\n",
      "(:FinancialMetric)-[:FROM_CHUNK]->(:Chunk)\n",
      "(:FinancialMetric)-[:MENTIONS]->(:TimePeriod)\n",
      "(:FinancialMetric)-[:HAS_METRIC]->(:TimePeriod)\n",
      "(:FinancialMetric)-[:HAS_METRIC]->(:Company)\n",
      "(:Product)-[:FROM_CHUNK]->(:Chunk)\n",
      "(:Product)-[:MENTIONS]->(:Company)\n",
      "(:Product)-[:MENTIONS]->(:RiskFactor)\n",
      "(:Product)-[:MENTIONS]->(:Executive)\n",
      "(:RiskFactor)-[:FROM_CHUNK]->(:Chunk)\n",
      "(:StockType)-[:FROM_CHUNK]->(:Chunk)\n",
      "(:TimePeriod)-[:FROM_CHUNK]->(:Chunk)\n",
      "(:TimePeriod)-[:HAS_METRIC]->(:FinancialMetric)\n",
      "(:Transaction)-[:FROM_CHUNK]->(:Chunk)\n",
      "(:Transaction)-[:MENTIONS]->(:TimePeriod)\n",
      "(:Transaction)-[:MENTIONS]->(:StockType)\n",
      "(:Transaction)-[:HAS_METRIC]->(:FinancialMetric)\n"
     ]
    }
   ],
   "source": [
    "schema = get_schema(driver)\n",
    "print(schema)"
   ]
  },
  {
   "cell_type": "markdown",
   "id": "32e856bd",
   "metadata": {},
   "source": [
    "Create the `Text2CypherRetriever` using the Neo4j `driver`, `llm`, and the `schema`."
   ]
  },
  {
   "cell_type": "code",
   "execution_count": 3,
   "id": "f0462fba",
   "metadata": {},
   "outputs": [],
   "source": [
    "# --- Text2CypherRetriever Example ---\n",
    "text2cypher_retriever = Text2CypherRetriever(\n",
    "    driver=driver,\n",
    "    llm=llm,\n",
    "    neo4j_schema=schema\n",
    ")"
   ]
  },
  {
   "cell_type": "markdown",
   "id": "41b19f6e",
   "metadata": {},
   "source": [
    "You run the retriever by passing a natural language query, for example \"What companies are owned by BlackRock Inc.\".\n",
    "\n",
    "The retriever then:\n",
    "\n",
    "1. Generates a corresponding Cypher query using the `schema` and the `llm`.\n",
    "2. Executes the Cypher query using the `driver`.\n",
    "3. Returns the generated Cypher and the results."
   ]
  },
  {
   "cell_type": "code",
   "execution_count": 4,
   "id": "6698344b",
   "metadata": {},
   "outputs": [
    {
     "name": "stdout",
     "output_type": "stream",
     "text": [
      "Original Query: What companies are owned by BlackRock Inc.\n",
      "Generated Cypher: cypher\n",
      "MATCH (am:AssetManager)-[:OWNS]->(c:Company)\n",
      "WHERE am.managerName = 'BlackRock Inc.'\n",
      "RETURN c.name\n",
      "\n",
      "Cypher Query Results:\n",
      "<Record c.name='APPLE INC'>\n",
      "<Record c.name='MICROSOFT CORP'>\n",
      "<Record c.name='AMAZON'>\n",
      "<Record c.name='INTEL CORP'>\n",
      "<Record c.name='PG&E CORP'>\n",
      "<Record c.name='NVIDIA CORPORATION'>\n",
      "<Record c.name='MCDONALDS CORP'>\n",
      "<Record c.name='PAYPAL HLDGS INC'>\n"
     ]
    }
   ],
   "source": [
    "query = \"What companies are owned by BlackRock Inc.\"\n",
    "cypher_query = text2cypher_retriever.get_search_results(query)\n",
    "\n",
    "print(\"Original Query:\", query)\n",
    "print(\"Generated Cypher:\", cypher_query.metadata[\"cypher\"])\n",
    "\n",
    "print(\"Cypher Query Results:\")\n",
    "for record in cypher_query.records:\n",
    "    print(record)"
   ]
  },
  {
   "cell_type": "markdown",
   "id": "83ec7a30",
   "metadata": {},
   "source": [
    "> **Tip:**\n",
    "> You can configure the retriever to only look at part of the graph by removing node labels and relationship types from the `schema`.\n",
    "\n",
    "You can use the `Text2CypherRetriever` retriever as part of a `GraphRAG` pipeline. The `GraphRAG` pipeline will generate responses based on the original `query` and the results return by the generated Cypher query. "
   ]
  },
  {
   "cell_type": "code",
   "execution_count": 5,
   "id": "e4ef2e0f",
   "metadata": {},
   "outputs": [
    {
     "name": "stdout",
     "output_type": "stream",
     "text": [
      "The asset managers mentioned are:\n",
      "\n",
      "- ALLIANCEBERNSTEIN L.P.\n",
      "- AMERIPRISE FINANCIAL INC\n",
      "- AMUNDI\n",
      "- BANK OF AMERICA CORP /DE/\n",
      "- Bank of New York Mellon Corp\n",
      "- Berkshire Hathaway Inc\n",
      "- BlackRock Inc.\n",
      "- Capital World Investors\n",
      "- FMR LLC\n",
      "- GEODE CAPITAL MANAGEMENT, LLC\n",
      "- MORGAN STANLEY\n",
      "- NORTHERN TRUST CORP\n",
      "- STATE STREET CORP\n",
      "- WELLINGTON MANAGEMENT GROUP LLP\n",
      "- WELLS FARGO & COMPANY/MN\n"
     ]
    }
   ],
   "source": [
    "# --- Initialize RAG and Perform Search ---\n",
    "query = \"Who are the assets managers?\"\n",
    "rag = GraphRAG(llm=llm, retriever=text2cypher_retriever)\n",
    "response = rag.search(\n",
    "    query,\n",
    "    return_context=True\n",
    "    )\n",
    "print(response.answer)"
   ]
  },
  {
   "cell_type": "code",
   "execution_count": 6,
   "id": "37947221",
   "metadata": {},
   "outputs": [
    {
     "name": "stdout",
     "output_type": "stream",
     "text": [
      "Generate Cypher: cypher\n",
      "MATCH (a:AssetManager)\n",
      "RETURN a.managerName\n",
      "\n",
      "Context:\n",
      "content=\"<Record a.managerName='ALLIANCEBERNSTEIN L.P.'>\" metadata=None\n",
      "content=\"<Record a.managerName='AMERIPRISE FINANCIAL INC'>\" metadata=None\n",
      "content=\"<Record a.managerName='AMUNDI'>\" metadata=None\n",
      "content=\"<Record a.managerName='BANK OF AMERICA CORP /DE/'>\" metadata=None\n",
      "content=\"<Record a.managerName='Bank of New York Mellon Corp'>\" metadata=None\n",
      "content=\"<Record a.managerName='Berkshire Hathaway Inc'>\" metadata=None\n",
      "content=\"<Record a.managerName='BlackRock Inc.'>\" metadata=None\n",
      "content=\"<Record a.managerName='Capital World Investors'>\" metadata=None\n",
      "content=\"<Record a.managerName='FMR LLC'>\" metadata=None\n",
      "content=\"<Record a.managerName='GEODE CAPITAL MANAGEMENT, LLC'>\" metadata=None\n",
      "content=\"<Record a.managerName='MORGAN STANLEY'>\" metadata=None\n",
      "content=\"<Record a.managerName='NORTHERN TRUST CORP'>\" metadata=None\n",
      "content=\"<Record a.managerName='STATE STREET CORP'>\" metadata=None\n",
      "content=\"<Record a.managerName='WELLINGTON MANAGEMENT GROUP LLP'>\" metadata=None\n",
      "content=\"<Record a.managerName='WELLS FARGO & COMPANY/MN'>\" metadata=None\n"
     ]
    }
   ],
   "source": [
    "# View the generated Cypher and results used in this query\n",
    "print(\"Generate Cypher:\", response.retriever_result.metadata[\"cypher\"])\n",
    "print(\"Context:\", *response.retriever_result.items, sep=\"\\n\")"
   ]
  },
  {
   "cell_type": "markdown",
   "id": "f712b230",
   "metadata": {},
   "source": [
    "Text2Cypher retrievers allow you to answer more specific questions and gain fact based context from the graph, they also:\n",
    "\n",
    "- Remove the need to manually write Cypher for each question.\n",
    "- Make graph querying accessible to non-technical users.\n",
    "- Support rapid prototyping, exploration, and building natural language interfaces to your knowledge graph.\n",
    "\n",
    "> **Tip:**\n",
    "> You can tailor the generated Cypher by providing `examples` of user and Cypher queries when creating the `Text2CypherRetriever`.\n",
    "\n",
    "---\n",
    "\n",
    "Experiment with the Text2Cypher retriever and GraphRAG pipeline, review the answers and the generated Cypher. \n",
    "\n",
    "[View the complete code](solutions/01_03_text2cypher_retriever.py)"
   ]
  }
 ],
 "metadata": {
  "kernelspec": {
   "display_name": "Python 3",
   "language": "python",
   "name": "python3"
  },
  "language_info": {
   "codemirror_mode": {
    "name": "ipython",
    "version": 3
   },
   "file_extension": ".py",
   "mimetype": "text/x-python",
   "name": "python",
   "nbconvert_exporter": "python",
   "pygments_lexer": "ipython3",
   "version": "3.11.9"
  }
 },
 "nbformat": 4,
 "nbformat_minor": 5
}
