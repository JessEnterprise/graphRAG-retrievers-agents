{
 "cells": [
  {
   "cell_type": "markdown",
   "id": "583cd26f",
   "metadata": {},
   "source": [
    "# Multi-tool Agent\n",
    "\n",
    "You will modify the agent to add a _Text to Cypher_ retriever tool.\n",
    "\n",
    "The Text to Cypher tool will allow the agent to create queries to retrieve more specific information such as facts and figures.\n",
    "\n",
    "***"
   ]
  },
  {
   "cell_type": "markdown",
   "id": "a032db81",
   "metadata": {},
   "source": [
    "Load the environment variables, import the required Python modules, and create the retrieve financial documents tool."
   ]
  },
  {
   "cell_type": "code",
   "execution_count": 1,
   "id": "a0d9383a",
   "metadata": {},
   "outputs": [],
   "source": [
    "import os\n",
    "from dotenv import load_dotenv\n",
    "load_dotenv()\n",
    "\n",
    "from langchain.chat_models import init_chat_model\n",
    "from langgraph.prebuilt import create_react_agent\n",
    "from langchain_core.tools import tool\n",
    "from langchain_neo4j import Neo4jGraph, Neo4jVector, GraphCypherQAChain\n",
    "from langchain_openai import OpenAIEmbeddings\n",
    "from langchain_core.prompts import PromptTemplate\n",
    "\n",
    "# Initialize the LLM\n",
    "model = init_chat_model(\"gpt-4o\", model_provider=\"openai\")\n",
    "\n",
    "# Create the embedding model\n",
    "embedding_model = OpenAIEmbeddings(model=\"text-embedding-ada-002\")\n",
    "\n",
    "# Connect to Neo4j\n",
    "graph = Neo4jGraph(\n",
    "    url=os.getenv(\"NEO4J_URI\"),\n",
    "    username=os.getenv(\"NEO4J_USERNAME\"), \n",
    "    password=os.getenv(\"NEO4J_PASSWORD\"),\n",
    ")\n",
    "\n",
    "# Define the retrieval query\n",
    "retrieval_query = \"\"\"\n",
    "MATCH (node)-[:FROM_DOCUMENT]-(doc:Document)-[:FILED]-(company:Company)\n",
    "RETURN \n",
    "    node.text as text,\n",
    "    score,\n",
    "    {\n",
    "        company: company.name,\n",
    "        risks: [ (company:Company)-[:FACES_RISK]->(risk:RiskFactor) | risk.name ]\n",
    "    } AS metadata\n",
    "ORDER BY score DESC\n",
    "\"\"\"\n",
    "\n",
    "# Create Vector\n",
    "chunk_vector = Neo4jVector.from_existing_index(\n",
    "    embedding_model,\n",
    "    graph=graph,\n",
    "    index_name=\"chunkEmbeddings\",\n",
    "    embedding_node_property=\"embedding\",\n",
    "    text_node_property=\"text\",\n",
    "    retrieval_query=retrieval_query,\n",
    ")\n",
    "\n",
    "# Define functions for each tool in the agent\n",
    "\n",
    "@tool(\"Get-graph-database-schema\")\n",
    "def get_schema():\n",
    "    \"\"\"Get the schema of the graph database.\"\"\"\n",
    "    context = graph.schema\n",
    "    return context\n",
    "\n",
    "@tool(\"Retrieve-financial-documents\")\n",
    "def retrieve_docs(query: str):\n",
    "    \"\"\"Find details about companies in their financial documents.\"\"\"\n",
    "    # Use the vector to find relevant documents\n",
    "    context = chunk_vector.similarity_search(\n",
    "        query, \n",
    "        k=3,\n",
    "    )\n",
    "    return context"
   ]
  },
  {
   "cell_type": "markdown",
   "id": "fb79e607",
   "metadata": {},
   "source": [
    "The Text to Cypher tool can use a separate LLM to generate the Cypher. This is useful as different models and settings are more effective at generating Cypher.\n",
    "\n",
    "***\n",
    "\n",
    "Create a `cypher_model` with a `temperature` of `0.0`."
   ]
  },
  {
   "cell_type": "code",
   "execution_count": 2,
   "id": "d0c0b83a",
   "metadata": {},
   "outputs": [],
   "source": [
    "# Create a separate model for Cypher generation\n",
    "cypher_model = init_chat_model(\n",
    "    \"gpt-4o\", \n",
    "    model_provider=\"openai\",\n",
    "    temperature=0.0\n",
    ")"
   ]
  },
  {
   "cell_type": "markdown",
   "id": "633522c5",
   "metadata": {},
   "source": [
    "The Text to Cypher tool requires a prompt which instructs the LLM on how to generate the Cypher.\n",
    "\n",
    "***\n",
    "\n",
    "Create a `cypher_template` which accepts the graph `schema` and the user's `question`."
   ]
  },
  {
   "cell_type": "code",
   "execution_count": 3,
   "id": "f9b894ff",
   "metadata": {},
   "outputs": [],
   "source": [
    "# Create a cypher generation prompt\n",
    "cypher_template = \"\"\"Task:Generate Cypher statement to query a graph database.\n",
    "Instructions:\n",
    "Use only the provided relationship types and properties in the schema.\n",
    "Do not use any other relationship types or properties that are not provided.\n",
    "\n",
    "Use `WHERE tolower(node.name) CONTAINS toLower('name')` to filter nodes by name.\n",
    "\n",
    "Schema:\n",
    "{schema}\n",
    "\n",
    "Note: Do not include any explanations or apologies in your responses.\n",
    "Do not respond to any questions that might ask anything else than for you to construct a Cypher statement.\n",
    "Do not include any text except the generated Cypher statement.\n",
    "\n",
    "The question is:\n",
    "{question}\"\"\""
   ]
  },
  {
   "cell_type": "markdown",
   "id": "d7a41340",
   "metadata": {},
   "source": [
    "The prompt can include specific instructions on how to generate Cypher, for example, this instruction:\n",
    "\n",
    "> Use `WHERE tolower(node.name) CONTAINS toLower('name')` to filter nodes by name.\n",
    "\n",
    "... tells the LLM to use case insensitive and wild card matching when searching by company name.\n",
    "\n",
    "***"
   ]
  },
  {
   "cell_type": "markdown",
   "id": "254f6ba0",
   "metadata": {},
   "source": [
    "Create a `cypher_prompt` using the template you just created."
   ]
  },
  {
   "cell_type": "code",
   "execution_count": 4,
   "id": "f91ac2d1",
   "metadata": {},
   "outputs": [],
   "source": [
    "cypher_prompt = PromptTemplate(\n",
    "    input_variables=[\"schema\", \"question\"], \n",
    "    template=cypher_template\n",
    ")"
   ]
  },
  {
   "cell_type": "markdown",
   "id": "f35380bf",
   "metadata": {},
   "source": [
    "Create a Cypher QA (question/answer) chain using the `cypher_model` and `cypher_prompt`."
   ]
  },
  {
   "cell_type": "code",
   "execution_count": 5,
   "id": "aa8de9e1",
   "metadata": {},
   "outputs": [],
   "source": [
    "# Create the Cypher QA chain\n",
    "cypher_qa = GraphCypherQAChain.from_llm(\n",
    "    graph=graph, \n",
    "    llm=model,\n",
    "    cypher_llm=cypher_model,\n",
    "    cypher_prompt=cypher_prompt,\n",
    "    allow_dangerous_requests=True,\n",
    "    return_direct=True,\n",
    "    verbose=True\n",
    ")"
   ]
  },
  {
   "cell_type": "markdown",
   "id": "bd2de2eb",
   "metadata": {},
   "source": [
    "The `return_direct` flag instructs the `cypher_qa` chain to return just the output of the Cypher query. \n",
    "\n",
    "Setting `verbose` will output the generated Cypher so you can see the results.\n",
    "\n",
    "<div class=\"alert alert-block alert-warning\">\n",
    "<b>Allow Dangerous Requests</b><br/>\n",
    "You are trusting the generation of Cypher to the LLM.\n",
    "It may generate invalid Cypher queries that could corrupt data in the graph or provide access to sensitive information.\n",
    "\n",
    "You have to opt-in to this risk by setting the `allow_dangerous_requests` flag to `True`.\n",
    "\n",
    "In a production environment, you should ensure that access to data is limited, and sufficient security is in place to prevent malicious queries. \n",
    "</div>\n",
    "\n",
    "***"
   ]
  },
  {
   "cell_type": "markdown",
   "id": "ed9d6f83",
   "metadata": {},
   "source": [
    "Create a new tool to `Query-database` that uses the `cypher_qa` chain."
   ]
  },
  {
   "cell_type": "code",
   "execution_count": 6,
   "id": "36f5e29e",
   "metadata": {},
   "outputs": [],
   "source": [
    "@tool(\"Query-database\")\n",
    "def query_database(query: str):\n",
    "    \"\"\"Get answers to specific questions about companies, risks, and financial metrics.\"\"\"\n",
    "    context = cypher_qa.invoke(\n",
    "        {\"query\": query}\n",
    "    )\n",
    "    return {\"context\": context}"
   ]
  },
  {
   "cell_type": "markdown",
   "id": "4fb9a80f",
   "metadata": {},
   "source": [
    "Create the agent `tools` and the `agent`."
   ]
  },
  {
   "cell_type": "code",
   "execution_count": 7,
   "id": "6401fc77",
   "metadata": {},
   "outputs": [],
   "source": [
    "# Add the tools to the agent\n",
    "tools = [get_schema, retrieve_docs, query_database]\n",
    "\n",
    "agent = create_react_agent(\n",
    "    model, \n",
    "    tools\n",
    ")"
   ]
  },
  {
   "cell_type": "markdown",
   "id": "2a6cc086",
   "metadata": {},
   "source": [
    "Create a query, run the agent, and stream the results."
   ]
  },
  {
   "cell_type": "code",
   "execution_count": 9,
   "id": "ce510fe4",
   "metadata": {},
   "outputs": [
    {
     "name": "stdout",
     "output_type": "stream",
     "text": [
      "================================\u001b[1m Human Message \u001b[0m=================================\n",
      "\n",
      "What products does Microsoft mention in its financial documents?\n",
      "==================================\u001b[1m Ai Message \u001b[0m==================================\n",
      "Tool Calls:\n",
      "  Retrieve-financial-documents (call_6UNAnQ9GudJVqNFPUcSb05ac)\n",
      " Call ID: call_6UNAnQ9GudJVqNFPUcSb05ac\n",
      "  Args:\n",
      "    query: Microsoft products mentioned in financial documents\n",
      "=================================\u001b[1m Tool Message \u001b[0m=================================\n",
      "Name: Retrieve-financial-documents\n",
      "\n",
      "[Document(metadata={'risks': ['Racial Injustice', 'Inequity', 'racial equity and fairness in the justice system', 'affordable broadband, devices, and digital literacy', 'Piracy', 'Intense competition across all markets', 'Competition in the technology sector', 'Competition among platform-based ecosystems', 'Competition with business models', 'Cost of converting ideas to software products', 'Investment in AI development', 'Open source competition', 'Decreased sales volumes', 'Execution and competitive risks in cloud-based services', 'execution and competitive risks', 'enhanced risks in specific industries and customers for cloud services', 'Racial Injustice', 'Inequity', 'racial equity and fairness in the justice system', 'affordable broadband, devices, and digital literacy', 'Piracy', 'Intense competition across all markets', 'Competition in the technology sector', 'Competition among platform-based ecosystems', 'Competition with business models', 'Cost of converting ideas to software products', 'Investment in AI development', 'Open source competition', 'Decreased sales volumes', 'Execution and competitive risks in cloud-based services', 'execution and competitive risks', 'enhanced risks in specific industries and customers for cloud services', 'reduced operating margins due to infrastructure costs', 'failure to generate sufficient usage of new products and services', 'impact on revenue from fraudulent or abusive activities', 'Significant delays in new releases', 'Acquisitions and other transactions do not advance business strategy', 'Cyberattacks and security vulnerabilities', 'Impairment of goodwill or amortizable intangible assets', 'Nation-state attacks', 'Supply chain cyberattacks', 'Emerging cybersecurity regulations', 'Security threats to products and services', 'Vulnerabilities in software', 'Unanticipated security threats from generative AI', 'Cyberattacks', 'Security vulnerabilities', 'Data corruption issues', 'Reduced performance', 'Security vulnerability', 'Data breach', 'Improper disclosure or misuse of data', 'Governmental data requests', 'reduced operating margins due to infrastructure costs', 'failure to generate sufficient usage of new products and services', 'impact on revenue from fraudulent or abusive activities', 'Significant delays in new releases', 'Acquisitions and other transactions do not advance business strategy', 'Abuse of platforms', 'Cyberattacks and security vulnerabilities', 'Impairment of goodwill or amortizable intangible assets', 'digital safety abuses', 'Nation-state attacks', 'IoT security, privacy, and execution risks', 'Supply chain cyberattacks', 'AI reputational or competitive harm or liability', 'Emerging cybersecurity regulations', 'ineffective or inadequate AI development or deployment practices', 'Security threats to products and services', 'competitive harm, regulatory action, legal liability', 'Vulnerabilities in software', 'ethical issues or broad impacts on society by AI scenarios', 'Unanticipated security threats from generative AI', 'excessive outages, data losses, and disruptions of online services', 'Cyberattacks', 'quality or supply problems with hardware products', 'Security vulnerabilities', 'design defects and product liability', 'Data corruption issues', 'supply chain disruptions', 'Reduced performance', 'legal, regulatory, and litigation risks', 'Security vulnerability', 'competition law scrutiny', 'Data breach', 'Anti-Corruption Laws compliance issues', 'Improper disclosure or misuse of data', 'Competition law actions', 'Governmental data requests', 'Increased costs and fines from trade laws', 'Impact of economic sanctions', 'Non-compliance with data privacy laws such as GDPR', 'Legal challenges to data transfer frameworks like EU-U.S. Data Privacy Framework', 'Regulatory developments impacting data use and monetization', 'Existing and increasing legal and regulatory requirements', 'Noncompliance with laws and regulations', 'Adverse outcomes from claims and lawsuits', 'Claims arising from major new product releases', 'AI services regulation in EU', 'Adverse economic or market conditions', 'Abuse of platforms', 'Catastrophic events or geopolitical conditions', 'Global financial market decline', 'digital safety abuses', 'Abrupt political change, terrorist activity, and armed conflict', 'IoT security, privacy, and execution risks', 'Geopolitical instability', 'AI reputational or competitive harm or liability', 'Regional epidemics or global pandemic', 'ineffective or inadequate AI development or deployment practices', 'regional epidemics or a global pandemic', 'competitive harm, regulatory action, legal liability', 'climate change', 'ethical issues or broad impacts on society by AI scenarios', 'operational and economic risks', 'excessive outages, data losses, and disruptions of online services', 'competitive market for skilled workers', 'quality or supply problems with hardware products', 'foreign exchange rates', 'design defects and product liability', 'interest rates', 'supply chain disruptions', 'credit risk', 'legal, regulatory, and litigation risks', 'equity prices', 'competition law scrutiny', 'Foreign currency - Revenue', 'Anti-Corruption Laws compliance issues', 'Foreign currency - Investments', 'Competition law actions', 'Interest rate', 'Increased costs and fines from trade laws', 'Credit', 'Impact of economic sanctions', 'Equity', 'Non-compliance with data privacy laws such as GDPR', 'Legal challenges to data transfer frameworks like EU-U.S. Data Privacy Framework', 'Regulatory developments impacting data use and monetization', 'Existing and increasing legal and regulatory requirements', 'Noncompliance with laws and regulations', 'significant level of integration and interdependency', 'Adverse outcomes from claims and lawsuits', 'Claims arising from major new product releases', 'currency risks', 'AI services regulation in EU', 'interest rate risks', 'market price risk', 'credit exposures', 'credit-risk-related contingent features', 'Unresolved IRS audit issues related to transfer pricing', 'Income taxes in various jurisdictions', 'U.S. Cell Phone Litigation', 'GDPR violations', 'Revenue Recognition', 'Uncertain Tax Positions', 'Adverse economic or market conditions', 'Catastrophic events or geopolitical conditions', 'Global financial market decline', 'Abrupt political change, terrorist activity, and armed conflict', 'Geopolitical instability', 'Regional epidemics or global pandemic', 'regional epidemics or a global pandemic', 'climate change', 'operational and economic risks', 'competitive market for skilled workers', 'foreign exchange rates', 'interest rates', 'credit risk', 'equity prices', 'Foreign currency - Revenue', 'Foreign currency - Investments', 'Interest rate', 'Credit', 'Equity', 'significant level of integration and interdependency', 'currency risks', 'interest rate risks', 'market price risk', 'credit exposures', 'credit-risk-related contingent features', 'Unresolved IRS audit issues related to transfer pricing', 'Income taxes in various jurisdictions', 'U.S. Cell Phone Litigation', 'GDPR violations', 'Revenue Recognition', 'Uncertain Tax Positions', 'brand or reputational harm', 'competitive harm', 'legal liability', 'increase the cost of research and development', 'undermine public confidence in AI', 'reputational harm', 'infringement claims', 'negative impact on business', 'data privacy and security concerns', 'brand or reputational harm', 'competitive harm', 'legal liability', 'increase the cost of research and development', 'undermine public confidence in AI', 'reputational harm', 'infringement claims', 'negative impact on business', 'data privacy and security concerns'], 'company': 'MICROSOFT CORP'}, page_content='time that investors might find useful\\nor interesting.\\n-\\nOpportunities to sign up for email alerts to have information pushed in real time.\\nWe publish a variety of reports and resources related to our Corporate Social Responsibility\\nprograms and progress on our Reports Hub website,\\nwww.microsoft.com/corporate-responsibility/reports-hub, including reports on sustainability,\\nresponsible sourcing, accessibility, digital trust, and public policy engagement.\\n \\nThe information found on these websites is not part of, or incorporated by reference into, this or any\\nother report we file with, or furnish to, the SEC. In addition to these channels, we use social media\\nto communicate to the public. It is possible that the information we post on social media could be\\ndeemed to be material to investors. We encourage investors, the media, and others interested in\\nMicrosoft to review the information we post on the social media channels listed on our Investor\\nRelations website.\\n22\\nPART I\\nItem 1A\\n \\nITEM 1A. RIS\\nK FACTORS\\nOur operations and financial results are subject to various risks and uncertainties, including those\\ndescribed below, that could adversely affect our business, financial condition, results of operations,\\ncash flows, and the trading price of our common stock.\\nSTRATEGIC AND COMPETITIVE RISKS\\nWe face intense competition across all markets for our products and services, which may lead to\\nlower revenue or operating margins.\\nCompetition in the technology sector\\nOur competitors range in size from diversified global companies with significant research and\\ndevelopment resources to small, specialized firms whose narrower product lines may let them be\\nmore effective in deploying technical, marketing, and financial resources. Barriers to entry in many\\nof our businesses are low and many of the areas in which we compete evolve rapidly with changing\\nand disruptive technologies, shifting user needs, and frequent introductions of new products and\\nservices. Our ability to remain competitive depends on our success in making innovative products,\\ndevices, and services that appeal to businesses and consumers.\\nCompetition among platform-based ecosystems\\nAn important element of our business model has been to create platform-based ecosystems on\\nwhich many participants can build diverse solutions. A well-established ecosystem creates beneficial\\nnetwork effects among users, application developers, and the platform provider that can accelerate\\ngrowth. Establishing significant scale in the marketplace is necessary to achieve and maintain\\nattractive margins. We face significant competition from firms that provide competing platforms.\\n-\\nA competing vertically-integrated model, in which a single firm controls the software and hardware\\nelements of a product and related services, has succeeded with some consumer products such as\\npersonal computers, tablets, phones, gaming consoles, wearables, and other endpoint devices.\\nCompetitors pursuing this model also earn revenue from services integrated with the hardware and\\nsoftware platform, including applications and content sold through their integrated marketplaces.\\nThey may also be able to claim security and performance benefits from their vertically integrated\\noffer. We also offer some vertically-integrated hardware and software products and services. To the\\nextent we shift a portion of our business to a vertically integrated model we increase our cost of\\nrevenue and reduce our operating margins.\\n-\\nWe derive substantial revenue from licenses of Windows operating systems on PCs. We face\\nsignificant competition from competing platforms developed for new devices and form factors such\\nas smartphones and tablet computers. These devices compete on multiple bases including price\\nand the perceived utility of the device and its platform. Users are increasingly turning to these\\ndevices to perform functions that in the past were performed by personal computers. Even if many\\nusers view these devices as complementary to a '), Document(metadata={'risks': ['Racial Injustice', 'Inequity', 'racial equity and fairness in the justice system', 'affordable broadband, devices, and digital literacy', 'Piracy', 'Intense competition across all markets', 'Competition in the technology sector', 'Competition among platform-based ecosystems', 'Competition with business models', 'Cost of converting ideas to software products', 'Investment in AI development', 'Open source competition', 'Decreased sales volumes', 'Execution and competitive risks in cloud-based services', 'execution and competitive risks', 'enhanced risks in specific industries and customers for cloud services', 'Racial Injustice', 'Inequity', 'racial equity and fairness in the justice system', 'affordable broadband, devices, and digital literacy', 'Piracy', 'Intense competition across all markets', 'Competition in the technology sector', 'Competition among platform-based ecosystems', 'Competition with business models', 'Cost of converting ideas to software products', 'Investment in AI development', 'Open source competition', 'Decreased sales volumes', 'Execution and competitive risks in cloud-based services', 'execution and competitive risks', 'enhanced risks in specific industries and customers for cloud services', 'reduced operating margins due to infrastructure costs', 'failure to generate sufficient usage of new products and services', 'impact on revenue from fraudulent or abusive activities', 'Significant delays in new releases', 'Acquisitions and other transactions do not advance business strategy', 'Cyberattacks and security vulnerabilities', 'Impairment of goodwill or amortizable intangible assets', 'Nation-state attacks', 'Supply chain cyberattacks', 'Emerging cybersecurity regulations', 'Security threats to products and services', 'Vulnerabilities in software', 'Unanticipated security threats from generative AI', 'Cyberattacks', 'Security vulnerabilities', 'Data corruption issues', 'Reduced performance', 'Security vulnerability', 'Data breach', 'Improper disclosure or misuse of data', 'Governmental data requests', 'reduced operating margins due to infrastructure costs', 'failure to generate sufficient usage of new products and services', 'impact on revenue from fraudulent or abusive activities', 'Significant delays in new releases', 'Acquisitions and other transactions do not advance business strategy', 'Abuse of platforms', 'Cyberattacks and security vulnerabilities', 'Impairment of goodwill or amortizable intangible assets', 'digital safety abuses', 'Nation-state attacks', 'IoT security, privacy, and execution risks', 'Supply chain cyberattacks', 'AI reputational or competitive harm or liability', 'Emerging cybersecurity regulations', 'ineffective or inadequate AI development or deployment practices', 'Security threats to products and services', 'competitive harm, regulatory action, legal liability', 'Vulnerabilities in software', 'ethical issues or broad impacts on society by AI scenarios', 'Unanticipated security threats from generative AI', 'excessive outages, data losses, and disruptions of online services', 'Cyberattacks', 'quality or supply problems with hardware products', 'Security vulnerabilities', 'design defects and product liability', 'Data corruption issues', 'supply chain disruptions', 'Reduced performance', 'legal, regulatory, and litigation risks', 'Security vulnerability', 'competition law scrutiny', 'Data breach', 'Anti-Corruption Laws compliance issues', 'Improper disclosure or misuse of data', 'Competition law actions', 'Governmental data requests', 'Increased costs and fines from trade laws', 'Impact of economic sanctions', 'Non-compliance with data privacy laws such as GDPR', 'Legal challenges to data transfer frameworks like EU-U.S. Data Privacy Framework', 'Regulatory developments impacting data use and monetization', 'Existing and increasing legal and regulatory requirements', 'Noncompliance with laws and regulations', 'Adverse outcomes from claims and lawsuits', 'Claims arising from major new product releases', 'AI services regulation in EU', 'Adverse economic or market conditions', 'Abuse of platforms', 'Catastrophic events or geopolitical conditions', 'Global financial market decline', 'digital safety abuses', 'Abrupt political change, terrorist activity, and armed conflict', 'IoT security, privacy, and execution risks', 'Geopolitical instability', 'AI reputational or competitive harm or liability', 'Regional epidemics or global pandemic', 'ineffective or inadequate AI development or deployment practices', 'regional epidemics or a global pandemic', 'competitive harm, regulatory action, legal liability', 'climate change', 'ethical issues or broad impacts on society by AI scenarios', 'operational and economic risks', 'excessive outages, data losses, and disruptions of online services', 'competitive market for skilled workers', 'quality or supply problems with hardware products', 'foreign exchange rates', 'design defects and product liability', 'interest rates', 'supply chain disruptions', 'credit risk', 'legal, regulatory, and litigation risks', 'equity prices', 'competition law scrutiny', 'Foreign currency - Revenue', 'Anti-Corruption Laws compliance issues', 'Foreign currency - Investments', 'Competition law actions', 'Interest rate', 'Increased costs and fines from trade laws', 'Credit', 'Impact of economic sanctions', 'Equity', 'Non-compliance with data privacy laws such as GDPR', 'Legal challenges to data transfer frameworks like EU-U.S. Data Privacy Framework', 'Regulatory developments impacting data use and monetization', 'Existing and increasing legal and regulatory requirements', 'Noncompliance with laws and regulations', 'significant level of integration and interdependency', 'Adverse outcomes from claims and lawsuits', 'Claims arising from major new product releases', 'currency risks', 'AI services regulation in EU', 'interest rate risks', 'market price risk', 'credit exposures', 'credit-risk-related contingent features', 'Unresolved IRS audit issues related to transfer pricing', 'Income taxes in various jurisdictions', 'U.S. Cell Phone Litigation', 'GDPR violations', 'Revenue Recognition', 'Uncertain Tax Positions', 'Adverse economic or market conditions', 'Catastrophic events or geopolitical conditions', 'Global financial market decline', 'Abrupt political change, terrorist activity, and armed conflict', 'Geopolitical instability', 'Regional epidemics or global pandemic', 'regional epidemics or a global pandemic', 'climate change', 'operational and economic risks', 'competitive market for skilled workers', 'foreign exchange rates', 'interest rates', 'credit risk', 'equity prices', 'Foreign currency - Revenue', 'Foreign currency - Investments', 'Interest rate', 'Credit', 'Equity', 'significant level of integration and interdependency', 'currency risks', 'interest rate risks', 'market price risk', 'credit exposures', 'credit-risk-related contingent features', 'Unresolved IRS audit issues related to transfer pricing', 'Income taxes in various jurisdictions', 'U.S. Cell Phone Litigation', 'GDPR violations', 'Revenue Recognition', 'Uncertain Tax Positions', 'brand or reputational harm', 'competitive harm', 'legal liability', 'increase the cost of research and development', 'undermine public confidence in AI', 'reputational harm', 'infringement claims', 'negative impact on business', 'data privacy and security concerns', 'brand or reputational harm', 'competitive harm', 'legal liability', 'increase the cost of research and development', 'undermine public confidence in AI', 'reputational harm', 'infringement claims', 'negative impact on business', 'data privacy and security concerns'], 'company': 'MICROSOFT CORP'}, page_content='time that investors might find useful\\nor interesting.\\n-\\nOpportunities to sign up for email alerts to have information pushed in real time.\\nWe publish a variety of reports and resources related to our Corporate Social Responsibility\\nprograms and progress on our Reports Hub website,\\nwww.microsoft.com/corporate-responsibility/reports-hub, including reports on sustainability,\\nresponsible sourcing, accessibility, digital trust, and public policy engagement.\\n \\nThe information found on these websites is not part of, or incorporated by reference into, this or any\\nother report we file with, or furnish to, the SEC. In addition to these channels, we use social media\\nto communicate to the public. It is possible that the information we post on social media could be\\ndeemed to be material to investors. We encourage investors, the media, and others interested in\\nMicrosoft to review the information we post on the social media channels listed on our Investor\\nRelations website.\\n22\\nPART I\\nItem 1A\\n \\nITEM 1A. RIS\\nK FACTORS\\nOur operations and financial results are subject to various risks and uncertainties, including those\\ndescribed below, that could adversely affect our business, financial condition, results of operations,\\ncash flows, and the trading price of our common stock.\\nSTRATEGIC AND COMPETITIVE RISKS\\nWe face intense competition across all markets for our products and services, which may lead to\\nlower revenue or operating margins.\\nCompetition in the technology sector\\nOur competitors range in size from diversified global companies with significant research and\\ndevelopment resources to small, specialized firms whose narrower product lines may let them be\\nmore effective in deploying technical, marketing, and financial resources. Barriers to entry in many\\nof our businesses are low and many of the areas in which we compete evolve rapidly with changing\\nand disruptive technologies, shifting user needs, and frequent introductions of new products and\\nservices. Our ability to remain competitive depends on our success in making innovative products,\\ndevices, and services that appeal to businesses and consumers.\\nCompetition among platform-based ecosystems\\nAn important element of our business model has been to create platform-based ecosystems on\\nwhich many participants can build diverse solutions. A well-established ecosystem creates beneficial\\nnetwork effects among users, application developers, and the platform provider that can accelerate\\ngrowth. Establishing significant scale in the marketplace is necessary to achieve and maintain\\nattractive margins. We face significant competition from firms that provide competing platforms.\\n-\\nA competing vertically-integrated model, in which a single firm controls the software and hardware\\nelements of a product and related services, has succeeded with some consumer products such as\\npersonal computers, tablets, phones, gaming consoles, wearables, and other endpoint devices.\\nCompetitors pursuing this model also earn revenue from services integrated with the hardware and\\nsoftware platform, including applications and content sold through their integrated marketplaces.\\nThey may also be able to claim security and performance benefits from their vertically integrated\\noffer. We also offer some vertically-integrated hardware and software products and services. To the\\nextent we shift a portion of our business to a vertically integrated model we increase our cost of\\nrevenue and reduce our operating margins.\\n-\\nWe derive substantial revenue from licenses of Windows operating systems on PCs. We face\\nsignificant competition from competing platforms developed for new devices and form factors such\\nas smartphones and tablet computers. These devices compete on multiple bases including price\\nand the perceived utility of the device and its platform. Users are increasingly turning to these\\ndevices to perform functions that in the past were performed by personal computers. Even if many\\nusers view these devices as complementary to a '), Document(metadata={'risks': ['Racial Injustice', 'Inequity', 'racial equity and fairness in the justice system', 'affordable broadband, devices, and digital literacy', 'Piracy', 'Intense competition across all markets', 'Competition in the technology sector', 'Competition among platform-based ecosystems', 'Competition with business models', 'Cost of converting ideas to software products', 'Investment in AI development', 'Open source competition', 'Decreased sales volumes', 'Execution and competitive risks in cloud-based services', 'execution and competitive risks', 'enhanced risks in specific industries and customers for cloud services', 'Racial Injustice', 'Inequity', 'racial equity and fairness in the justice system', 'affordable broadband, devices, and digital literacy', 'Piracy', 'Intense competition across all markets', 'Competition in the technology sector', 'Competition among platform-based ecosystems', 'Competition with business models', 'Cost of converting ideas to software products', 'Investment in AI development', 'Open source competition', 'Decreased sales volumes', 'Execution and competitive risks in cloud-based services', 'execution and competitive risks', 'enhanced risks in specific industries and customers for cloud services', 'reduced operating margins due to infrastructure costs', 'failure to generate sufficient usage of new products and services', 'impact on revenue from fraudulent or abusive activities', 'Significant delays in new releases', 'Acquisitions and other transactions do not advance business strategy', 'Cyberattacks and security vulnerabilities', 'Impairment of goodwill or amortizable intangible assets', 'Nation-state attacks', 'Supply chain cyberattacks', 'Emerging cybersecurity regulations', 'Security threats to products and services', 'Vulnerabilities in software', 'Unanticipated security threats from generative AI', 'Cyberattacks', 'Security vulnerabilities', 'Data corruption issues', 'Reduced performance', 'Security vulnerability', 'Data breach', 'Improper disclosure or misuse of data', 'Governmental data requests', 'reduced operating margins due to infrastructure costs', 'failure to generate sufficient usage of new products and services', 'impact on revenue from fraudulent or abusive activities', 'Significant delays in new releases', 'Acquisitions and other transactions do not advance business strategy', 'Abuse of platforms', 'Cyberattacks and security vulnerabilities', 'Impairment of goodwill or amortizable intangible assets', 'digital safety abuses', 'Nation-state attacks', 'IoT security, privacy, and execution risks', 'Supply chain cyberattacks', 'AI reputational or competitive harm or liability', 'Emerging cybersecurity regulations', 'ineffective or inadequate AI development or deployment practices', 'Security threats to products and services', 'competitive harm, regulatory action, legal liability', 'Vulnerabilities in software', 'ethical issues or broad impacts on society by AI scenarios', 'Unanticipated security threats from generative AI', 'excessive outages, data losses, and disruptions of online services', 'Cyberattacks', 'quality or supply problems with hardware products', 'Security vulnerabilities', 'design defects and product liability', 'Data corruption issues', 'supply chain disruptions', 'Reduced performance', 'legal, regulatory, and litigation risks', 'Security vulnerability', 'competition law scrutiny', 'Data breach', 'Anti-Corruption Laws compliance issues', 'Improper disclosure or misuse of data', 'Competition law actions', 'Governmental data requests', 'Increased costs and fines from trade laws', 'Impact of economic sanctions', 'Non-compliance with data privacy laws such as GDPR', 'Legal challenges to data transfer frameworks like EU-U.S. Data Privacy Framework', 'Regulatory developments impacting data use and monetization', 'Existing and increasing legal and regulatory requirements', 'Noncompliance with laws and regulations', 'Adverse outcomes from claims and lawsuits', 'Claims arising from major new product releases', 'AI services regulation in EU', 'Adverse economic or market conditions', 'Abuse of platforms', 'Catastrophic events or geopolitical conditions', 'Global financial market decline', 'digital safety abuses', 'Abrupt political change, terrorist activity, and armed conflict', 'IoT security, privacy, and execution risks', 'Geopolitical instability', 'AI reputational or competitive harm or liability', 'Regional epidemics or global pandemic', 'ineffective or inadequate AI development or deployment practices', 'regional epidemics or a global pandemic', 'competitive harm, regulatory action, legal liability', 'climate change', 'ethical issues or broad impacts on society by AI scenarios', 'operational and economic risks', 'excessive outages, data losses, and disruptions of online services', 'competitive market for skilled workers', 'quality or supply problems with hardware products', 'foreign exchange rates', 'design defects and product liability', 'interest rates', 'supply chain disruptions', 'credit risk', 'legal, regulatory, and litigation risks', 'equity prices', 'competition law scrutiny', 'Foreign currency - Revenue', 'Anti-Corruption Laws compliance issues', 'Foreign currency - Investments', 'Competition law actions', 'Interest rate', 'Increased costs and fines from trade laws', 'Credit', 'Impact of economic sanctions', 'Equity', 'Non-compliance with data privacy laws such as GDPR', 'Legal challenges to data transfer frameworks like EU-U.S. Data Privacy Framework', 'Regulatory developments impacting data use and monetization', 'Existing and increasing legal and regulatory requirements', 'Noncompliance with laws and regulations', 'significant level of integration and interdependency', 'Adverse outcomes from claims and lawsuits', 'Claims arising from major new product releases', 'currency risks', 'AI services regulation in EU', 'interest rate risks', 'market price risk', 'credit exposures', 'credit-risk-related contingent features', 'Unresolved IRS audit issues related to transfer pricing', 'Income taxes in various jurisdictions', 'U.S. Cell Phone Litigation', 'GDPR violations', 'Revenue Recognition', 'Uncertain Tax Positions', 'Adverse economic or market conditions', 'Catastrophic events or geopolitical conditions', 'Global financial market decline', 'Abrupt political change, terrorist activity, and armed conflict', 'Geopolitical instability', 'Regional epidemics or global pandemic', 'regional epidemics or a global pandemic', 'climate change', 'operational and economic risks', 'competitive market for skilled workers', 'foreign exchange rates', 'interest rates', 'credit risk', 'equity prices', 'Foreign currency - Revenue', 'Foreign currency - Investments', 'Interest rate', 'Credit', 'Equity', 'significant level of integration and interdependency', 'currency risks', 'interest rate risks', 'market price risk', 'credit exposures', 'credit-risk-related contingent features', 'Unresolved IRS audit issues related to transfer pricing', 'Income taxes in various jurisdictions', 'U.S. Cell Phone Litigation', 'GDPR violations', 'Revenue Recognition', 'Uncertain Tax Positions', 'brand or reputational harm', 'competitive harm', 'legal liability', 'increase the cost of research and development', 'undermine public confidence in AI', 'reputational harm', 'infringement claims', 'negative impact on business', 'data privacy and security concerns', 'brand or reputational harm', 'competitive harm', 'legal liability', 'increase the cost of research and development', 'undermine public confidence in AI', 'reputational harm', 'infringement claims', 'negative impact on business', 'data privacy and security concerns'], 'company': 'MICROSOFT CORP'}, page_content='located, was as\\nfollows:\\n \\n\\n(In millions)\\n \\n \\n \\n \\n \\n \\n \\n \\n \\n \\nYear Ended June 30,\\n \\n2023\\n \\n \\n2022\\n \\n \\n2021\\n \\n \\n \\n \\n \\nUnited States \\n(a)\\n \\n$\\n106,744\\n \\n \\n$\\n100,218\\n \\n \\n$\\n83,953\\n \\nOther countries\\n \\n \\n105,171\\n \\n \\n \\n98,052\\n \\n \\n \\n84,135\\n \\n \\n \\n \\n \\n \\n \\n \\n \\n \\n \\n \\n \\n \\n \\n \\n \\n \\n \\n \\n \\n \\n \\n \\nTotal\\n \\n$\\n211,915\\n \\n \\n$\\n198,270\\n \\n \\n$\\n168,088\\n \\n \\n \\n \\n \\n \\n \\n \\n \\n \\n \\n \\n \\n \\n \\n(a)\\nIncludes billings to OEMs and certain multinational organizations because of the nature of these\\nbusinesses and the impracticability of determining the geographic source of the revenue.\\n \\n94\\nPART II\\nItem 8\\n \\nRevenue, classified by significant product and service offerings, was as follows:\\n \\n \\n(In millions)\\n \\n \\n \\n \\n \\n \\n \\n \\n \\n \\nYear Ended June 30,\\n \\n2023\\n \\n \\n2022\\n \\n \\n2021\\n \\n \\n \\n \\n \\nServer products and cloud services\\n \\n$\\n79,970\\n \\n \\n$\\n67,350\\n \\n \\n$\\n52,589\\n \\nOffice products and cloud services\\n \\n \\n48,728\\n \\n \\n \\n44,862\\n \\n \\n \\n39,872\\n \\nWindows\\n \\n \\n21,507\\n \\n \\n \\n24,732\\n \\n \\n \\n22,488\\n \\nGaming\\n \\n \\n15,466\\n \\n \\n \\n16,230\\n \\n \\n \\n15,370\\n \\nLinkedIn\\n \\n \\n15,145\\n \\n \\n \\n13,816\\n \\n \\n \\n10,289\\n \\nSearch and news advertising\\n \\n \\n12,208\\n \\n \\n \\n11,591\\n \\n \\n \\n9,267\\n \\nEnterprise Services\\n \\n \\n7,722\\n \\n \\n \\n7,407\\n \\n \\n \\n6,943\\n \\nDevices\\n \\n \\n5,521\\n \\n \\n \\n7,306\\n \\n \\n \\n7,143\\n \\nDynamics\\n \\n \\n5,437\\n \\n \\n \\n4,687\\n \\n \\n \\n3,754\\n \\nOther\\n \\n \\n211\\n \\n \\n \\n289\\n \\n \\n \\n373\\n \\n \\n \\n \\n \\n \\n \\n \\n \\n \\n \\n \\n \\n \\n \\n \\n \\n \\n \\n \\n \\n \\n \\n \\nTotal\\n \\n$\\n211,915\\n \\n \\n$\\n198,270\\n \\n \\n$\\n168,088\\n \\n \\n \\n \\n \\n \\n \\n \\n \\n \\n \\n \\n \\n \\n \\nOur Microsoft Cloud revenue, which includes Azure and other cloud services, Office 365\\nCommercial, the commercial portion of LinkedIn, Dynamics 365, and other commercial cloud\\nproperties, was $\\n111.6\\n billion, $\\n91.4\\n billion, and $\\n69.1\\n billion in fiscal years 2023, 2022, and 2021, respectively. These amounts are primarily included in\\nServer products and cloud services, Office products and cloud services, LinkedIn, and Dynamics in\\nthe table above.\\nAssets are not allocated to segments for internal reporting presentations. A portion of amortization\\nand depreciation is included with various other costs in an overhead allocation to each segment. It is\\nimpracticable for us to separately identify the amount of amortization and depreciation by segment\\nthat is included in the measure of segment profit or loss.\\nLong-lived assets, excluding financial instruments and tax assets, classified by the location of the\\ncontrolling statutory company and with countries over 10% of the total shown separately, were as\\nfollows:\\n \\n\\n(In millions)\\n \\n \\n \\n \\n \\n \\n \\n \\n \\n \\nJune 30,\\n \\n2023\\n \\n \\n2022\\n \\n \\n2021\\n \\n \\n \\n \\n \\nUnited States\\n \\n$\\n114,380\\n \\n \\n$\\n106,430\\n \\n \\n$\\n76,153\\n \\nIreland\\n \\n \\n16,359\\n \\n \\n \\n15,505\\n \\n \\n \\n13,303\\n \\nOther countries\\n \\n \\n56,500\\n \\n \\n \\n44,433\\n \\n \\n \\n38,858\\n \\n \\n \\n \\n \\n \\n \\n \\n \\n \\n \\n \\n \\n \\n \\n \\n \\n \\n \\n \\n \\n \\n \\n \\nTotal\\n \\n$\\n187,239\\n \\n \\n$\\n166,368\\n \\n \\n$\\n128,314\\n \\n \\n \\n \\n \\n \\n \\n \\n \\n \\n \\n \\n \\n \\n \\n95\\nPART II\\nItem 8\\n \\nREPORT OF INDEPENDENT REGIST\\nERED PUBLIC ACCOUNTING FIRM\\nTo the Stockholders and the Board of Directors of Microsoft Corporation\\n \\nOpinion on the Financial Statements\\nWe have audited the accompanying consolidated balance sheets of Microsoft Corporation and\\nsubsidiaries (the \"Company\") as of June 30, 2023 and 2022, the related consolidated statements of\\nincome, comprehensive income, cash flows, and stockholders\\' equity, for each of the three years in\\nthe period ended June 30, 2023, and the related notes (collectively referred to as the \"financial\\nstatements\"). In our opinion, the financial statements present fairly, in all material respects, the\\nfinancial position of the Company as of June 30, 2023 and 2022, and the results of its operations\\nand its cash flows for each of the three years in the period ended June 30, 2023, in conformity with\\naccounting principles generally accepted in the United States of America.\\nWe have also audited, in accordance with the standards of the Public Company Accounting\\nOversight Board (United States) (PCAOB), the Company\\'s internal control over financial reporting as\\nof June 30, 2023, based on criteria established in \\nInternal Control -- Integrated ')]\n",
      "==================================\u001b[1m Ai Message \u001b[0m==================================\n",
      "\n",
      "Microsoft's financial documents mention several product categories, including:\n",
      "\n",
      "1. **Server products and cloud services**: This category generated $79,970 million in revenue for the year ended June 30, 2023.\n",
      "\n",
      "2. **Office products and cloud services**: This includes software like Microsoft Office and related cloud services, with revenue figures reaching $48,728 million in the same period.\n",
      "\n",
      "3. **Windows**: The well-known operating system category brought in $21,507 million in revenue.\n",
      "\n",
      "4. **Gaming**: Revenue from products and services related to gaming reached $15,466 million.\n",
      "\n",
      "5. **LinkedIn**: The professional networking platform accounted for $15,145 million in revenue.\n",
      "\n",
      "6. **Search and news advertising**: Revenue from this category was $12,208 million.\n",
      "\n",
      "7. **Enterprise Services**: This professional services category earned $7,722 million.\n",
      "\n",
      "8. **Devices**: Including hardware like Surface tablets, this category brought in $5,521 million.\n",
      "\n",
      "9. **Dynamics**: Microsoft's business software applications contributed $5,437 million in revenue.\n",
      "\n",
      "10. **Other**: This category included miscellaneous products or services, totaling $211 million.\n",
      "\n",
      "Additionally, Microsoft's cloud revenue—comprising services like Azure, Office 365 Commercial, the commercial portion of LinkedIn, and Dynamics 365—was significant, totaling $111.6 billion for fiscal year 2023. These revenues are primarily categorized under server products and cloud services, Office products and cloud services, LinkedIn, and Dynamics.\n"
     ]
    }
   ],
   "source": [
    "# Run the application\n",
    "query = \"What products does Microsoft mention in its financial documents?\"\n",
    "\n",
    "for step in agent.stream(\n",
    "    {\n",
    "        \"messages\": [{\"role\": \"user\", \"content\": query}]\n",
    "    },\n",
    "    stream_mode=\"values\",\n",
    "):\n",
    "    step[\"messages\"][-1].pretty_print()"
   ]
  },
  {
   "cell_type": "markdown",
   "id": "c23a4817",
   "metadata": {},
   "source": [
    "Depending what question you ask the agent will use different tools to respond to the question.\n",
    "\n",
    "***\n",
    "\n",
    "Modify the question and observe how the agent changes tool, or even runs multiple tools, to gather the context it requires to answer the question.\n",
    "\n",
    "Try these examples:\n",
    "\n",
    "* What are the main risk factors mentioned in the documents?\n",
    "* How does the graph model relate to financial documents and risk factors?\n",
    "* What products does Microsoft mention in its financial documents?\n",
    "* Summarize Apple's risk factors and how they relate to other companies\n",
    "* How many risk facts does Apple face and what are the top ones?\n",
    "\n",
    "***\n",
    "\n",
    "[View the complete code](solutions/02_03_text2cypher_agent.py)"
   ]
  }
 ],
 "metadata": {
  "kernelspec": {
   "display_name": "Python 3",
   "language": "python",
   "name": "python3"
  },
  "language_info": {
   "codemirror_mode": {
    "name": "ipython",
    "version": 3
   },
   "file_extension": ".py",
   "mimetype": "text/x-python",
   "name": "python",
   "nbconvert_exporter": "python",
   "pygments_lexer": "ipython3",
   "version": "3.11.9"
  }
 },
 "nbformat": 4,
 "nbformat_minor": 5
}
