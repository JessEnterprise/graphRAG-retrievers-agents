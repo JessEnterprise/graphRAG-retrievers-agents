{
 "cells": [
  {
   "cell_type": "markdown",
   "id": "464e24a5",
   "metadata": {},
   "source": [
    "# Vector + Graph Retriever Agent\n",
    "\n",
    "You will modify the agent to include an additional tool that:\n",
    "\n",
    "1. Searches the documents using the vector index\n",
    "2. Traverses the graph around the document to find other facts\n",
    "\n",
    "***"
   ]
  },
  {
   "cell_type": "markdown",
   "id": "82202731",
   "metadata": {},
   "source": [
    "Load the environment variables, create the `model`, connect to the Neo4j `graph` database, and create the `get_schema` tool."
   ]
  },
  {
   "cell_type": "code",
   "execution_count": 1,
   "id": "ad9da392",
   "metadata": {},
   "outputs": [],
   "source": [
    "import os\n",
    "from dotenv import load_dotenv\n",
    "load_dotenv()\n",
    "\n",
    "from langchain.chat_models import init_chat_model\n",
    "from langgraph.prebuilt import create_react_agent\n",
    "from langchain_core.tools import tool\n",
    "from langchain_neo4j import Neo4jGraph, Neo4jVector\n",
    "from langchain_openai import OpenAIEmbeddings\n",
    "\n",
    "# Initialize the LLM\n",
    "model = init_chat_model(\"gpt-4o\", model_provider=\"openai\")\n",
    "\n",
    "# Connect to Neo4j\n",
    "graph = Neo4jGraph(\n",
    "    url=os.getenv(\"NEO4J_URI\"),\n",
    "    username=os.getenv(\"NEO4J_USERNAME\"), \n",
    "    password=os.getenv(\"NEO4J_PASSWORD\"),\n",
    ")\n",
    "\n",
    "# Define functions for each tool in the agent\n",
    "\n",
    "@tool(\"Get-graph-database-schema\")\n",
    "def get_schema():\n",
    "    \"\"\"Get the schema of the graph database.\"\"\"\n",
    "    context = graph.schema\n",
    "    return context"
   ]
  },
  {
   "cell_type": "markdown",
   "id": "032d0d07",
   "metadata": {},
   "source": [
    "To use the vector index, you will need to create an embedding model to convert user's queries into embeddings."
   ]
  },
  {
   "cell_type": "code",
   "execution_count": 2,
   "id": "99719e2d",
   "metadata": {},
   "outputs": [],
   "source": [
    "# Create the embedding model\n",
    "embedding_model = OpenAIEmbeddings(model=\"text-embedding-ada-002\")"
   ]
  },
  {
   "cell_type": "markdown",
   "id": "aeaf1754",
   "metadata": {},
   "source": [
    "To retrieve data from the graph after documents have been found, you can define a `retrieval_query`."
   ]
  },
  {
   "cell_type": "code",
   "execution_count": 3,
   "id": "a138296c",
   "metadata": {},
   "outputs": [],
   "source": [
    "retrieval_query = \"\"\"\n",
    "MATCH (node)-[:FROM_DOCUMENT]-(doc:Document)-[:FILED]-(company:Company)\n",
    "RETURN \n",
    "    node.text as text,\n",
    "    score,\n",
    "    {\n",
    "        company: company.name,\n",
    "        risks: [ (company:Company)-[:FACES_RISK]->(risk:RiskFactor) | risk.name ]\n",
    "    } AS metadata\n",
    "ORDER BY score DESC\n",
    "\"\"\""
   ]
  },
  {
   "cell_type": "markdown",
   "id": "dd3f3590",
   "metadata": {},
   "source": [
    "> This query retrieves the `Company` the `Document` relates to and any associated `RiskFactor` nodes.\n",
    "\n",
    "***"
   ]
  },
  {
   "cell_type": "markdown",
   "id": "697b1edd",
   "metadata": {},
   "source": [
    "Create the vector index to search the `chunkEmbeddings` and include the `retrieval_query`."
   ]
  },
  {
   "cell_type": "code",
   "execution_count": 4,
   "id": "97c8658f",
   "metadata": {},
   "outputs": [],
   "source": [
    "# Create vector index\n",
    "chunk_vector = Neo4jVector.from_existing_index(\n",
    "    embedding_model,\n",
    "    graph=graph,\n",
    "    index_name=\"chunkEmbeddings\",\n",
    "    embedding_node_property=\"embedding\",\n",
    "    text_node_property=\"text\",\n",
    "    retrieval_query=retrieval_query,\n",
    ")"
   ]
  },
  {
   "cell_type": "markdown",
   "id": "6d909e9a",
   "metadata": {},
   "source": [
    "Create a new tool to `Retrieve-financial-documents` that searches the `chunk_vector`."
   ]
  },
  {
   "cell_type": "code",
   "execution_count": 5,
   "id": "1083a562",
   "metadata": {},
   "outputs": [],
   "source": [
    "# Define a tool to retrieve financial documents\n",
    "@tool(\"Retrieve-financial-documents\")\n",
    "def retrieve_docs(query: str):\n",
    "    \"\"\"Find details about companies in their financial documents.\"\"\"\n",
    "    # Use the vector to find relevant documents\n",
    "    context = chunk_vector.similarity_search(\n",
    "        query, \n",
    "        k=3,\n",
    "    )\n",
    "    return context"
   ]
  },
  {
   "cell_type": "markdown",
   "id": "892af9d9",
   "metadata": {},
   "source": [
    "> The agent will use the tool's name and docstring to determine if it is needed.\n",
    "\n",
    "***"
   ]
  },
  {
   "cell_type": "markdown",
   "id": "a5ea644c",
   "metadata": {},
   "source": [
    "Create the agent `tools` and the `agent`."
   ]
  },
  {
   "cell_type": "code",
   "execution_count": 6,
   "id": "e4f9c4d8",
   "metadata": {},
   "outputs": [],
   "source": [
    "# Add the tools to the agent\n",
    "tools = [get_schema, retrieve_docs]\n",
    "\n",
    "agent = create_react_agent(\n",
    "    model, \n",
    "    tools\n",
    ")"
   ]
  },
  {
   "cell_type": "markdown",
   "id": "b507a7a7",
   "metadata": {},
   "source": [
    "> The agent has access to the `get-schema` and `retrieve_docs` tools. The agent will pick between them when processing the user's query.\n",
    "\n",
    "***"
   ]
  },
  {
   "cell_type": "markdown",
   "id": "54a0a6a2",
   "metadata": {},
   "source": [
    "Create a query, run the agent, and stream the results."
   ]
  },
  {
   "cell_type": "code",
   "execution_count": 7,
   "id": "a91fdcda",
   "metadata": {},
   "outputs": [
    {
     "name": "stdout",
     "output_type": "stream",
     "text": [
      "================================\u001b[1m Human Message \u001b[0m=================================\n",
      "\n",
      "Summarise what risk factors are mentioned in Apple's financial documents?\n",
      "==================================\u001b[1m Ai Message \u001b[0m==================================\n",
      "Tool Calls:\n",
      "  Retrieve-financial-documents (call_27hUBG2DitrUEdPUe95oXfTz)\n",
      " Call ID: call_27hUBG2DitrUEdPUe95oXfTz\n",
      "  Args:\n",
      "    query: Apple risk factors\n",
      "=================================\u001b[1m Tool Message \u001b[0m=================================\n",
      "Name: Retrieve-financial-documents\n",
      "\n",
      "[Document(metadata={'risks': ['Geography', 'Geography', 'Aggressive price competition', 'Frequent introduction of new products', 'Short product life cycles', 'Evolving industry standards', 'Commodity pricing fluctuations', 'Industry-wide shortage and significant commodity pricing fluctuations', 'Initial capacity constraints when new technologies are used', 'Availability of components at acceptable prices', 'Ability to extend or renew component supply agreements', 'Rapid technological advances in industry', 'Need to seek or renew licenses for third-party intellectual property', 'Potential workplace risks', 'General safety, security, and crisis management hazards', 'Risks in potentially high-hazard environments', 'Reputation, financial performance impact', 'Macroeconomic and Industry Risks', 'Adverse macroeconomic conditions', 'Political events, trade and other international disputes, war, terrorism, natural disasters, public health issues, industrial accidents and other business interruptions', 'interruptions in international commerce and the global economy', 'restrictions on international trade', 'political uncertainty', 'natural disasters', 'cybersecurity attacks', 'industrial accidents', 'global climate change', 'pandemics such as COVID-19', 'aggressive price competition', 'infringing on intellectual property', 'intense competition', 'frequent product introductions and transitions', 'dependence on outsourcing partners', 'diminished control over production and distribution', 'product defect liabilities', 'violations of supplier code of conduct', 'disruptions in manufacturing or logistics', 'financial problems of outsourcing partners or suppliers', 'significant supply and pricing risks', 'high demand and shortages in the global semiconductor industry', 'poor financial conditions of component suppliers', 'adverse economic conditions', 'supply shortages and price increases', 'design and manufacturing defects', 'product liability claims', 'write-downs on the value of inventory and other assets', 'product obsolescence', 'forecasting excess or insufficient components', 'infringement of intellectual property rights', 'availability of third-party software applications', \"Failure to obtain or create digital content that appeals to the Company's customers\", 'Aggressive price competition', 'Frequent introduction of new products', 'Short product life cycles', 'Evolving industry standards', 'Commodity pricing fluctuations', 'Industry-wide shortage and significant commodity pricing fluctuations', 'Initial capacity constraints when new technologies are used', 'Availability of components at acceptable prices', 'Ability to extend or renew component supply agreements', 'Rapid technological advances in industry', 'Need to seek or renew licenses for third-party intellectual property', 'Potential workplace risks', 'General safety, security, and crisis management hazards', 'Risks in potentially high-hazard environments', 'Reputation, financial performance impact', 'Macroeconomic and Industry Risks', 'Adverse macroeconomic conditions', 'Political events, trade and other international disputes, war, terrorism, natural disasters, public health issues, industrial accidents and other business interruptions', 'interruptions in international commerce and the global economy', 'restrictions on international trade', 'political uncertainty', 'natural disasters', 'cybersecurity attacks', 'industrial accidents', 'global climate change', 'pandemics such as COVID-19', 'aggressive price competition', 'infringing on intellectual property', 'intense competition', 'frequent product introductions and transitions', 'dependence on outsourcing partners', 'diminished control over production and distribution', 'product defect liabilities', 'violations of supplier code of conduct', 'disruptions in manufacturing or logistics', 'financial problems of outsourcing partners or suppliers', 'significant supply and pricing risks', 'high demand and shortages in the global semiconductor industry', 'poor financial conditions of component suppliers', 'adverse economic conditions', 'supply shortages and price increases', 'design and manufacturing defects', 'product liability claims', 'write-downs on the value of inventory and other assets', 'product obsolescence', 'forecasting excess or insufficient components', 'infringement of intellectual property rights', 'availability of third-party software applications', \"Failure to obtain or create digital content that appeals to the Company's customers\", 'Failure to make digital content available on commercially reasonable terms', 'Changes due to competition, market conditions, legal and regulatory requirements affecting the App Store', 'Litigation and investigations relating to the App Store', 'Reductions in the rate of commission or changes affecting commission scope or existence', 'Developers focusing efforts on competing platforms', 'Information technology system failures and network disruptions', 'Losses or unauthorized access to or releases of confidential information', 'Malicious attacks and unauthorized access attempts', 'malicious attacks', 'investment in new business strategies and acquisitions', 'risks and uncertainties related to retail operations', 'Legal and Regulatory Compliance Risks', 'Patent claims relating to cellular-enabled products', 'complex and changing laws and regulations', 'regulatory changes and other actions', 'expectations relating to environmental, social and governance considerations', 'intense media, political and regulatory scrutiny', 'antitrust investigations', 'environmental, social and governance considerations', 'Investigations and litigation', 'Compliance with data protection laws', 'Reputational impacts', 'Penalties and legal liability', 'Payment card data security standards compliance', 'pricing pressures and product pricing actions', 'supply shortages', 'potential increases in component costs', 'Failure to make digital content available on commercially reasonable terms', 'Changes due to competition, market conditions, legal and regulatory requirements affecting the App Store', 'Litigation and investigations relating to the App Store', 'Reductions in the rate of commission or changes affecting commission scope or existence', 'Developers focusing efforts on competing platforms', 'Information technology system failures and network disruptions', 'Losses or unauthorized access to or releases of confidential information', 'Malicious attacks and unauthorized access attempts', 'malicious attacks', 'investment in new business strategies and acquisitions', 'risks and uncertainties related to retail operations', 'Legal and Regulatory Compliance Risks', 'Patent claims relating to cellular-enabled products', 'complex and changing laws and regulations', 'regulatory changes and other actions', 'expectations relating to environmental, social and governance considerations', 'intense media, political and regulatory scrutiny', 'antitrust investigations', 'environmental, social and governance considerations', 'Investigations and litigation', 'Compliance with data protection laws', 'Reputational impacts', 'Penalties and legal liability', 'Payment card data security standards compliance', 'pricing pressures and product pricing actions', 'supply shortages', 'potential increases in component costs', 'foreign exchange rate fluctuations', 'credit risk and fluctuations in the values of its investment portfolio', 'credit risk on its trade accounts receivable, vendor non-trade receivables and prepayments related to long-term supply agreements', 'exposure to credit and collectibility risk on its trade receivables', 'Credit risk', 'Tax rate changes', 'Tax liabilities', 'Volatility of stock price', 'macroeconomic conditions', 'uncertain tax positions', 'various legal proceedings and claims', 'market risk from interest rates and foreign exchange', 'Interest Rate Risk', 'Foreign Exchange Rate Risk', 'foreign exchange rate fluctuations', 'credit risk and fluctuations in the values of its investment portfolio', 'credit risk on its trade accounts receivable, vendor non-trade receivables and prepayments related to long-term supply agreements', 'exposure to credit and collectibility risk on its trade receivables', 'Credit risk', 'Tax rate changes', 'Tax liabilities', 'Volatility of stock price', 'macroeconomic conditions', 'uncertain tax positions', 'various legal proceedings and claims', 'market risk from interest rates and foreign exchange', 'Interest Rate Risk', 'Foreign Exchange Rate Risk', 'Economic conditions', 'Political conditions', 'Change in tax laws', 'Cyber-attacks', 'Product, system security, and data protection breaches', 'Supply-chain attacks', 'tax liabilities and tax-related factors', 'adverse changes in tax laws', 'effect of accounting for stock-based compensation and stock price volatility', 'Economic conditions', 'Political conditions', 'Change in tax laws', 'Cyber-attacks', 'Product, system security, and data protection breaches', 'Supply-chain attacks', 'tax liabilities and tax-related factors', 'adverse changes in tax laws', 'effect of accounting for stock-based compensation and stock price volatility', 'Manufacturing and supply chain risks', 'Security breaches', 'Stock market fluctuations', 'Stock repurchase program volatility', 'Concentration of stock ownership', 'Charter provisions discouraging takeover', 'Manufacturing and supply chain risks', 'Security breaches', 'Stock market fluctuations', 'Stock repurchase program volatility', 'Concentration of stock ownership', 'Charter provisions discouraging takeover'], 'company': 'APPLE INC'}, page_content='intended to be inactive\\ntextual references only.\\nApple Inc. | 2023 Form 10-K | 4\\nSection: Item1a\\n>Item 1A.    Risk Factors\\nThe Company\\'s business, reputation, results of operations, financial condition and stock price can\\nbe affected by a number of factors, whether currently known or unknown, including those described\\nbelow. When any one or more of these risks materialize from time to time, the Company\\'s business,\\nreputation, results of operations, financial condition and stock price can be materially and adversely\\naffected.\\nBecause of the following factors, as well as other factors affecting the Company\\'s results of\\noperations and financial condition, past financial performance should not be considered to be a\\nreliable indicator of future performance, and investors should not use historical trends to anticipate\\nresults or trends in future periods. This discussion of risk factors contains forward-looking\\nstatements.\\nThis section should be read in conjunction with Part II, Item 7, \"Management\\'s Discussion and\\nAnalysis of Financial Condition and Results of Operations\" and the consolidated financial\\nstatements and accompanying notes in Part II, Item 8, \"Financial Statements and Supplementary\\nData\" of this Form 10-K.\\nMacroeconomic and Industry Risks\\nThe Company\\'s operations and performance depend significantly on global and regional economic\\nconditions and adverse economic conditions can materially adversely affect the Company\\'s\\nbusiness, results of operations and financial condition.\\nThe Company has international operations with sales outside the U.S. representing a majority of the\\nCompany\\'s total net sales. In addition, the Company\\'s global supply chain is large and complex and\\na majority of the Company\\'s supplier facilities, including manufacturing and assembly sites, are\\nlocated outside the U.S. As a result, the Company\\'s operations and performance depend\\nsignificantly on global and regional economic conditions.\\nAdverse macroeconomic conditions, including slow growth or recession, high unemployment,\\ninflation, tighter credit, higher interest rates, and currency fluctuations, can adversely impact\\nconsumer confidence and spending and materially adversely affect demand for the Company\\'s\\nproducts and services. In addition, consumer confidence and spending can be materially adversely\\naffected in response to changes in fiscal and monetary policy, financial market volatility, declines in\\nincome or asset values, and other economic factors.\\nIn addition to an adverse impact on demand for the Company\\'s products and services, uncertainty\\nabout, or a decline in, global or regional economic conditions can have a significant impact on the\\nCompany\\'s suppliers, contract manufacturers, logistics providers, distributors, cellular network\\ncarriers and other channel partners, and developers. Potential outcomes include financial instability;\\ninability to obtain credit to finance business operations; and insolvency.\\nAdverse economic conditions can also lead to increased credit and collectibility risk on the\\nCompany\\'s trade receivables; the failure of derivative counterparties and other financial institutions;\\nlimitations on the Company\\'s ability to issue new debt; reduced liquidity; and declines in the fair\\nvalues of the Company\\'s financial instruments. These and other impacts can materially adversely\\naffect the Company\\'s business, results of operations, financial condition and stock price.\\nThe Company\\'s business can be impacted by political events, trade and other international disputes,\\nwar, terrorism, natural disasters, public health issues, industrial accidents and other business\\ninterruptions.\\nPolitical events, trade and other international disputes, war, terrorism, natural disasters, public\\nhealth issues, industrial accidents and other business interruptions can harm or disrupt international\\ncommerce and the global economy, and could have a material adverse effect on the Company and\\nits customers, suppliers, contract manufacturers, logistics '), Document(metadata={'risks': ['Geography', 'Geography', 'Aggressive price competition', 'Frequent introduction of new products', 'Short product life cycles', 'Evolving industry standards', 'Commodity pricing fluctuations', 'Industry-wide shortage and significant commodity pricing fluctuations', 'Initial capacity constraints when new technologies are used', 'Availability of components at acceptable prices', 'Ability to extend or renew component supply agreements', 'Rapid technological advances in industry', 'Need to seek or renew licenses for third-party intellectual property', 'Potential workplace risks', 'General safety, security, and crisis management hazards', 'Risks in potentially high-hazard environments', 'Reputation, financial performance impact', 'Macroeconomic and Industry Risks', 'Adverse macroeconomic conditions', 'Political events, trade and other international disputes, war, terrorism, natural disasters, public health issues, industrial accidents and other business interruptions', 'interruptions in international commerce and the global economy', 'restrictions on international trade', 'political uncertainty', 'natural disasters', 'cybersecurity attacks', 'industrial accidents', 'global climate change', 'pandemics such as COVID-19', 'aggressive price competition', 'infringing on intellectual property', 'intense competition', 'frequent product introductions and transitions', 'dependence on outsourcing partners', 'diminished control over production and distribution', 'product defect liabilities', 'violations of supplier code of conduct', 'disruptions in manufacturing or logistics', 'financial problems of outsourcing partners or suppliers', 'significant supply and pricing risks', 'high demand and shortages in the global semiconductor industry', 'poor financial conditions of component suppliers', 'adverse economic conditions', 'supply shortages and price increases', 'design and manufacturing defects', 'product liability claims', 'write-downs on the value of inventory and other assets', 'product obsolescence', 'forecasting excess or insufficient components', 'infringement of intellectual property rights', 'availability of third-party software applications', \"Failure to obtain or create digital content that appeals to the Company's customers\", 'Aggressive price competition', 'Frequent introduction of new products', 'Short product life cycles', 'Evolving industry standards', 'Commodity pricing fluctuations', 'Industry-wide shortage and significant commodity pricing fluctuations', 'Initial capacity constraints when new technologies are used', 'Availability of components at acceptable prices', 'Ability to extend or renew component supply agreements', 'Rapid technological advances in industry', 'Need to seek or renew licenses for third-party intellectual property', 'Potential workplace risks', 'General safety, security, and crisis management hazards', 'Risks in potentially high-hazard environments', 'Reputation, financial performance impact', 'Macroeconomic and Industry Risks', 'Adverse macroeconomic conditions', 'Political events, trade and other international disputes, war, terrorism, natural disasters, public health issues, industrial accidents and other business interruptions', 'interruptions in international commerce and the global economy', 'restrictions on international trade', 'political uncertainty', 'natural disasters', 'cybersecurity attacks', 'industrial accidents', 'global climate change', 'pandemics such as COVID-19', 'aggressive price competition', 'infringing on intellectual property', 'intense competition', 'frequent product introductions and transitions', 'dependence on outsourcing partners', 'diminished control over production and distribution', 'product defect liabilities', 'violations of supplier code of conduct', 'disruptions in manufacturing or logistics', 'financial problems of outsourcing partners or suppliers', 'significant supply and pricing risks', 'high demand and shortages in the global semiconductor industry', 'poor financial conditions of component suppliers', 'adverse economic conditions', 'supply shortages and price increases', 'design and manufacturing defects', 'product liability claims', 'write-downs on the value of inventory and other assets', 'product obsolescence', 'forecasting excess or insufficient components', 'infringement of intellectual property rights', 'availability of third-party software applications', \"Failure to obtain or create digital content that appeals to the Company's customers\", 'Failure to make digital content available on commercially reasonable terms', 'Changes due to competition, market conditions, legal and regulatory requirements affecting the App Store', 'Litigation and investigations relating to the App Store', 'Reductions in the rate of commission or changes affecting commission scope or existence', 'Developers focusing efforts on competing platforms', 'Information technology system failures and network disruptions', 'Losses or unauthorized access to or releases of confidential information', 'Malicious attacks and unauthorized access attempts', 'malicious attacks', 'investment in new business strategies and acquisitions', 'risks and uncertainties related to retail operations', 'Legal and Regulatory Compliance Risks', 'Patent claims relating to cellular-enabled products', 'complex and changing laws and regulations', 'regulatory changes and other actions', 'expectations relating to environmental, social and governance considerations', 'intense media, political and regulatory scrutiny', 'antitrust investigations', 'environmental, social and governance considerations', 'Investigations and litigation', 'Compliance with data protection laws', 'Reputational impacts', 'Penalties and legal liability', 'Payment card data security standards compliance', 'pricing pressures and product pricing actions', 'supply shortages', 'potential increases in component costs', 'Failure to make digital content available on commercially reasonable terms', 'Changes due to competition, market conditions, legal and regulatory requirements affecting the App Store', 'Litigation and investigations relating to the App Store', 'Reductions in the rate of commission or changes affecting commission scope or existence', 'Developers focusing efforts on competing platforms', 'Information technology system failures and network disruptions', 'Losses or unauthorized access to or releases of confidential information', 'Malicious attacks and unauthorized access attempts', 'malicious attacks', 'investment in new business strategies and acquisitions', 'risks and uncertainties related to retail operations', 'Legal and Regulatory Compliance Risks', 'Patent claims relating to cellular-enabled products', 'complex and changing laws and regulations', 'regulatory changes and other actions', 'expectations relating to environmental, social and governance considerations', 'intense media, political and regulatory scrutiny', 'antitrust investigations', 'environmental, social and governance considerations', 'Investigations and litigation', 'Compliance with data protection laws', 'Reputational impacts', 'Penalties and legal liability', 'Payment card data security standards compliance', 'pricing pressures and product pricing actions', 'supply shortages', 'potential increases in component costs', 'foreign exchange rate fluctuations', 'credit risk and fluctuations in the values of its investment portfolio', 'credit risk on its trade accounts receivable, vendor non-trade receivables and prepayments related to long-term supply agreements', 'exposure to credit and collectibility risk on its trade receivables', 'Credit risk', 'Tax rate changes', 'Tax liabilities', 'Volatility of stock price', 'macroeconomic conditions', 'uncertain tax positions', 'various legal proceedings and claims', 'market risk from interest rates and foreign exchange', 'Interest Rate Risk', 'Foreign Exchange Rate Risk', 'foreign exchange rate fluctuations', 'credit risk and fluctuations in the values of its investment portfolio', 'credit risk on its trade accounts receivable, vendor non-trade receivables and prepayments related to long-term supply agreements', 'exposure to credit and collectibility risk on its trade receivables', 'Credit risk', 'Tax rate changes', 'Tax liabilities', 'Volatility of stock price', 'macroeconomic conditions', 'uncertain tax positions', 'various legal proceedings and claims', 'market risk from interest rates and foreign exchange', 'Interest Rate Risk', 'Foreign Exchange Rate Risk', 'Economic conditions', 'Political conditions', 'Change in tax laws', 'Cyber-attacks', 'Product, system security, and data protection breaches', 'Supply-chain attacks', 'tax liabilities and tax-related factors', 'adverse changes in tax laws', 'effect of accounting for stock-based compensation and stock price volatility', 'Economic conditions', 'Political conditions', 'Change in tax laws', 'Cyber-attacks', 'Product, system security, and data protection breaches', 'Supply-chain attacks', 'tax liabilities and tax-related factors', 'adverse changes in tax laws', 'effect of accounting for stock-based compensation and stock price volatility', 'Manufacturing and supply chain risks', 'Security breaches', 'Stock market fluctuations', 'Stock repurchase program volatility', 'Concentration of stock ownership', 'Charter provisions discouraging takeover', 'Manufacturing and supply chain risks', 'Security breaches', 'Stock market fluctuations', 'Stock repurchase program volatility', 'Concentration of stock ownership', 'Charter provisions discouraging takeover'], 'company': 'APPLE INC'}, page_content='impact the Company\\'s net sales to its indirect distribution\\nchannels as these channels are filled with new inventory following a product launch, and channel\\ninventory of an older product often declines as the launch of a newer product approaches. Net sales\\ncan also be affected when consumers and distributors anticipate a product introduction.\\nHuman Capital\\nThe Company believes it has a talented, motivated and dedicated team, and works to create an\\ninclusive, safe and supportive environment for all of its team members. As of September 30, 2023,\\nthe Company had approximately 161,000 full-time equivalent employees.\\nWorkplace Practices and Policies\\nThe Company is an equal opportunity employer committed to inclusion and diversity and to\\nproviding a workplace free of harassment or discrimination.\\nCompensation and Benefits\\nThe Company believes that compensation should be competitive and equitable, and should enable\\nemployees to share in the Company\\'s success. The Company recognizes its people are most likely\\nto thrive when they have the resources to meet their needs and the time and support to succeed in\\ntheir professional and personal lives. In support of this, the Company offers a wide variety of\\nbenefits for employees around the world and invests in tools and resources that are designed to\\nsupport employees\\' individual growth and development.\\nInclusion and Diversity\\nThe Company is committed to its vision to build and sustain a more inclusive workforce that is\\nrepresentative of the communities it serves. The Company continues to work to increase diverse\\nrepresentation at every level, foster an inclusive culture, and support equitable pay and access to\\nopportunity for all employees.\\nEngagement\\nThe Company believes that open and honest communication among team members, managers and\\nleaders helps create an open, collaborative work environment where everyone can contribute, grow\\nand succeed. Team members are encouraged to come to their managers with questions, feedback\\nor concerns, and the Company conducts surveys that gauge employee sentiment in areas like\\ncareer development, manager performance and inclusivity.\\nHealth and Safety\\nThe Company is committed to protecting its team members everywhere it operates. The Company\\nidentifies potential workplace risks in order to develop measures to mitigate possible hazards. The\\nCompany supports employees with general safety, security and crisis management training, and by\\nputting specific programs in place for those working in potentially high-hazard environments.\\nAdditionally, the Company works to protect the safety and security of its team members, visitors and\\ncustomers through its global security team.\\nAvailable Information\\nThe Company\\'s Annual Reports on Form 10-K, Quarterly Reports on Form 10-Q, Current Reports\\non Form 8-K, and amendments to reports filed pursuant to Sections 13(a) and 15(d) of the\\nSecurities Exchange Act of 1934, as amended (the \"Exchange Act\"), are filed with the U.S.\\nSecurities and Exchange Commission (the \"SEC\"). Such reports and other information filed by the\\nCompany with the SEC are available free of charge at\\ninvestor.apple.com/investor-relations/sec-filings/default.aspx when such reports are available on the\\nSEC\\'s website. The Company periodically provides certain information for investors on its corporate\\nwebsite, www.apple.com, and its investor relations website, investor.apple.com. This includes press\\nreleases and other information about financial performance, information on environmental, social\\nand governance matters, and details related to the Company\\'s annual meeting of shareholders. The\\ninformation contained on the websites referenced in this Form 10-K is not incorporated by reference\\ninto this filing. Further, the Company\\'s references to website URLs are intended to be inactive\\ntextual references only.\\nApple Inc. | 2023 Form 10-K | 4\\nSection: Item1a\\n>Item 1A.    Risk Factors\\nThe Company\\'s business, reputation, results of operations, financial condition '), Document(metadata={'risks': ['Geography', 'Geography', 'Aggressive price competition', 'Frequent introduction of new products', 'Short product life cycles', 'Evolving industry standards', 'Commodity pricing fluctuations', 'Industry-wide shortage and significant commodity pricing fluctuations', 'Initial capacity constraints when new technologies are used', 'Availability of components at acceptable prices', 'Ability to extend or renew component supply agreements', 'Rapid technological advances in industry', 'Need to seek or renew licenses for third-party intellectual property', 'Potential workplace risks', 'General safety, security, and crisis management hazards', 'Risks in potentially high-hazard environments', 'Reputation, financial performance impact', 'Macroeconomic and Industry Risks', 'Adverse macroeconomic conditions', 'Political events, trade and other international disputes, war, terrorism, natural disasters, public health issues, industrial accidents and other business interruptions', 'interruptions in international commerce and the global economy', 'restrictions on international trade', 'political uncertainty', 'natural disasters', 'cybersecurity attacks', 'industrial accidents', 'global climate change', 'pandemics such as COVID-19', 'aggressive price competition', 'infringing on intellectual property', 'intense competition', 'frequent product introductions and transitions', 'dependence on outsourcing partners', 'diminished control over production and distribution', 'product defect liabilities', 'violations of supplier code of conduct', 'disruptions in manufacturing or logistics', 'financial problems of outsourcing partners or suppliers', 'significant supply and pricing risks', 'high demand and shortages in the global semiconductor industry', 'poor financial conditions of component suppliers', 'adverse economic conditions', 'supply shortages and price increases', 'design and manufacturing defects', 'product liability claims', 'write-downs on the value of inventory and other assets', 'product obsolescence', 'forecasting excess or insufficient components', 'infringement of intellectual property rights', 'availability of third-party software applications', \"Failure to obtain or create digital content that appeals to the Company's customers\", 'Aggressive price competition', 'Frequent introduction of new products', 'Short product life cycles', 'Evolving industry standards', 'Commodity pricing fluctuations', 'Industry-wide shortage and significant commodity pricing fluctuations', 'Initial capacity constraints when new technologies are used', 'Availability of components at acceptable prices', 'Ability to extend or renew component supply agreements', 'Rapid technological advances in industry', 'Need to seek or renew licenses for third-party intellectual property', 'Potential workplace risks', 'General safety, security, and crisis management hazards', 'Risks in potentially high-hazard environments', 'Reputation, financial performance impact', 'Macroeconomic and Industry Risks', 'Adverse macroeconomic conditions', 'Political events, trade and other international disputes, war, terrorism, natural disasters, public health issues, industrial accidents and other business interruptions', 'interruptions in international commerce and the global economy', 'restrictions on international trade', 'political uncertainty', 'natural disasters', 'cybersecurity attacks', 'industrial accidents', 'global climate change', 'pandemics such as COVID-19', 'aggressive price competition', 'infringing on intellectual property', 'intense competition', 'frequent product introductions and transitions', 'dependence on outsourcing partners', 'diminished control over production and distribution', 'product defect liabilities', 'violations of supplier code of conduct', 'disruptions in manufacturing or logistics', 'financial problems of outsourcing partners or suppliers', 'significant supply and pricing risks', 'high demand and shortages in the global semiconductor industry', 'poor financial conditions of component suppliers', 'adverse economic conditions', 'supply shortages and price increases', 'design and manufacturing defects', 'product liability claims', 'write-downs on the value of inventory and other assets', 'product obsolescence', 'forecasting excess or insufficient components', 'infringement of intellectual property rights', 'availability of third-party software applications', \"Failure to obtain or create digital content that appeals to the Company's customers\", 'Failure to make digital content available on commercially reasonable terms', 'Changes due to competition, market conditions, legal and regulatory requirements affecting the App Store', 'Litigation and investigations relating to the App Store', 'Reductions in the rate of commission or changes affecting commission scope or existence', 'Developers focusing efforts on competing platforms', 'Information technology system failures and network disruptions', 'Losses or unauthorized access to or releases of confidential information', 'Malicious attacks and unauthorized access attempts', 'malicious attacks', 'investment in new business strategies and acquisitions', 'risks and uncertainties related to retail operations', 'Legal and Regulatory Compliance Risks', 'Patent claims relating to cellular-enabled products', 'complex and changing laws and regulations', 'regulatory changes and other actions', 'expectations relating to environmental, social and governance considerations', 'intense media, political and regulatory scrutiny', 'antitrust investigations', 'environmental, social and governance considerations', 'Investigations and litigation', 'Compliance with data protection laws', 'Reputational impacts', 'Penalties and legal liability', 'Payment card data security standards compliance', 'pricing pressures and product pricing actions', 'supply shortages', 'potential increases in component costs', 'Failure to make digital content available on commercially reasonable terms', 'Changes due to competition, market conditions, legal and regulatory requirements affecting the App Store', 'Litigation and investigations relating to the App Store', 'Reductions in the rate of commission or changes affecting commission scope or existence', 'Developers focusing efforts on competing platforms', 'Information technology system failures and network disruptions', 'Losses or unauthorized access to or releases of confidential information', 'Malicious attacks and unauthorized access attempts', 'malicious attacks', 'investment in new business strategies and acquisitions', 'risks and uncertainties related to retail operations', 'Legal and Regulatory Compliance Risks', 'Patent claims relating to cellular-enabled products', 'complex and changing laws and regulations', 'regulatory changes and other actions', 'expectations relating to environmental, social and governance considerations', 'intense media, political and regulatory scrutiny', 'antitrust investigations', 'environmental, social and governance considerations', 'Investigations and litigation', 'Compliance with data protection laws', 'Reputational impacts', 'Penalties and legal liability', 'Payment card data security standards compliance', 'pricing pressures and product pricing actions', 'supply shortages', 'potential increases in component costs', 'foreign exchange rate fluctuations', 'credit risk and fluctuations in the values of its investment portfolio', 'credit risk on its trade accounts receivable, vendor non-trade receivables and prepayments related to long-term supply agreements', 'exposure to credit and collectibility risk on its trade receivables', 'Credit risk', 'Tax rate changes', 'Tax liabilities', 'Volatility of stock price', 'macroeconomic conditions', 'uncertain tax positions', 'various legal proceedings and claims', 'market risk from interest rates and foreign exchange', 'Interest Rate Risk', 'Foreign Exchange Rate Risk', 'foreign exchange rate fluctuations', 'credit risk and fluctuations in the values of its investment portfolio', 'credit risk on its trade accounts receivable, vendor non-trade receivables and prepayments related to long-term supply agreements', 'exposure to credit and collectibility risk on its trade receivables', 'Credit risk', 'Tax rate changes', 'Tax liabilities', 'Volatility of stock price', 'macroeconomic conditions', 'uncertain tax positions', 'various legal proceedings and claims', 'market risk from interest rates and foreign exchange', 'Interest Rate Risk', 'Foreign Exchange Rate Risk', 'Economic conditions', 'Political conditions', 'Change in tax laws', 'Cyber-attacks', 'Product, system security, and data protection breaches', 'Supply-chain attacks', 'tax liabilities and tax-related factors', 'adverse changes in tax laws', 'effect of accounting for stock-based compensation and stock price volatility', 'Economic conditions', 'Political conditions', 'Change in tax laws', 'Cyber-attacks', 'Product, system security, and data protection breaches', 'Supply-chain attacks', 'tax liabilities and tax-related factors', 'adverse changes in tax laws', 'effect of accounting for stock-based compensation and stock price volatility', 'Manufacturing and supply chain risks', 'Security breaches', 'Stock market fluctuations', 'Stock repurchase program volatility', 'Concentration of stock ownership', 'Charter provisions discouraging takeover', 'Manufacturing and supply chain risks', 'Security breaches', 'Stock market fluctuations', 'Stock repurchase program volatility', 'Concentration of stock ownership', 'Charter provisions discouraging takeover'], 'company': 'APPLE INC'}, page_content='impact the Company\\'s net sales to its indirect distribution\\nchannels as these channels are filled with new inventory following a product launch, and channel\\ninventory of an older product often declines as the launch of a newer product approaches. Net sales\\ncan also be affected when consumers and distributors anticipate a product introduction.\\nHuman Capital\\nThe Company believes it has a talented, motivated and dedicated team, and works to create an\\ninclusive, safe and supportive environment for all of its team members. As of September 30, 2023,\\nthe Company had approximately 161,000 full-time equivalent employees.\\nWorkplace Practices and Policies\\nThe Company is an equal opportunity employer committed to inclusion and diversity and to\\nproviding a workplace free of harassment or discrimination.\\nCompensation and Benefits\\nThe Company believes that compensation should be competitive and equitable, and should enable\\nemployees to share in the Company\\'s success. The Company recognizes its people are most likely\\nto thrive when they have the resources to meet their needs and the time and support to succeed in\\ntheir professional and personal lives. In support of this, the Company offers a wide variety of\\nbenefits for employees around the world and invests in tools and resources that are designed to\\nsupport employees\\' individual growth and development.\\nInclusion and Diversity\\nThe Company is committed to its vision to build and sustain a more inclusive workforce that is\\nrepresentative of the communities it serves. The Company continues to work to increase diverse\\nrepresentation at every level, foster an inclusive culture, and support equitable pay and access to\\nopportunity for all employees.\\nEngagement\\nThe Company believes that open and honest communication among team members, managers and\\nleaders helps create an open, collaborative work environment where everyone can contribute, grow\\nand succeed. Team members are encouraged to come to their managers with questions, feedback\\nor concerns, and the Company conducts surveys that gauge employee sentiment in areas like\\ncareer development, manager performance and inclusivity.\\nHealth and Safety\\nThe Company is committed to protecting its team members everywhere it operates. The Company\\nidentifies potential workplace risks in order to develop measures to mitigate possible hazards. The\\nCompany supports employees with general safety, security and crisis management training, and by\\nputting specific programs in place for those working in potentially high-hazard environments.\\nAdditionally, the Company works to protect the safety and security of its team members, visitors and\\ncustomers through its global security team.\\nAvailable Information\\nThe Company\\'s Annual Reports on Form 10-K, Quarterly Reports on Form 10-Q, Current Reports\\non Form 8-K, and amendments to reports filed pursuant to Sections 13(a) and 15(d) of the\\nSecurities Exchange Act of 1934, as amended (the \"Exchange Act\"), are filed with the U.S.\\nSecurities and Exchange Commission (the \"SEC\"). Such reports and other information filed by the\\nCompany with the SEC are available free of charge at\\ninvestor.apple.com/investor-relations/sec-filings/default.aspx when such reports are available on the\\nSEC\\'s website. The Company periodically provides certain information for investors on its corporate\\nwebsite, www.apple.com, and its investor relations website, investor.apple.com. This includes press\\nreleases and other information about financial performance, information on environmental, social\\nand governance matters, and details related to the Company\\'s annual meeting of shareholders. The\\ninformation contained on the websites referenced in this Form 10-K is not incorporated by reference\\ninto this filing. Further, the Company\\'s references to website URLs are intended to be inactive\\ntextual references only.\\nApple Inc. | 2023 Form 10-K | 4\\nSection: Item1a\\n>Item 1A.    Risk Factors\\nThe Company\\'s business, reputation, results of operations, financial condition ')]\n",
      "==================================\u001b[1m Ai Message \u001b[0m==================================\n",
      "\n",
      "Apple's financial documents highlight several risk factors affecting its business, reputation, financial performance, and stock price. These include:\n",
      "\n",
      "1. **Macroeconomic and Industry Risks**: Apple's global operations are significantly affected by economic conditions, such as recessions, high unemployment, inflation, and currency fluctuations, which can impact consumer confidence and demand for Apple products.\n",
      "\n",
      "2. **Political and Global Events**: Political disputes, trade issues, wars, terrorism, natural disasters, public health concerns like pandemics, and other crises can disrupt Apple's operations and affect its supply chain and sales.\n",
      "\n",
      "3. **Supply Chain Risks**: These include dependency on outsourcing partners and suppliers, industry-wide supply shortage, pricing risks, and the ability to secure components at acceptable prices.\n",
      "\n",
      "4. **Technological and Market Competition**: Rapid technological changes, intense market competition, frequent product introductions, and short product life cycles pose significant challenges to Apple.\n",
      "\n",
      "5. **Cybersecurity Threats**: Apple faces risks from potential cybersecurity attacks, information technology failures, network disruptions, and unauthorized access to confidential information.\n",
      "\n",
      "6. **Legal and Regulatory Compliance**: Complex and changing laws and regulations, environmental and social governance expectations, antitrust investigations, and litigation concerning intellectual property rights and the App Store impose legal risks.\n",
      "\n",
      "7. **Financial Risks**: Fluctuations in foreign exchange rates, interest rates, credit risks, tax liabilities, and stock market volatility impact Apple's financial stability.\n",
      "\n",
      "8. **Product and Reputation Risks**: Includes risks related to product defects, changes in consumer preferences, and any negative impact on brand reputation.\n",
      "\n",
      "9. **Workplace and Human Capital**: Apple must manage potential workplace risks, ensuring a safe and inclusive environment and supporting a diverse and motivated workforce.\n",
      "\n",
      "These risks underscore the complex and interconnected challenges faced by Apple in maintaining its operational and financial performance.\n"
     ]
    }
   ],
   "source": [
    "query = \"Summarise what risk factors are mentioned in Apple's financial documents?\"\n",
    "\n",
    "for step in agent.stream(\n",
    "    {\n",
    "        \"messages\": [{\"role\": \"user\", \"content\": query}]\n",
    "    },\n",
    "    stream_mode=\"values\",\n",
    "):\n",
    "    step[\"messages\"][-1].pretty_print()"
   ]
  },
  {
   "cell_type": "markdown",
   "id": "07d17354",
   "metadata": {},
   "source": [
    "Experiment with the agent, ask different questions about the documents and the graph schema, for example:\n",
    "\n",
    "* Summarize the schema of the graph database.\n",
    "* What are the main risk factors mentioned in the documents?\n",
    "* Tell me about cybersecurity threats in financial services\n",
    "* What products does Microsoft mention in its financial documents?\n",
    "* How are companies connected through their mentioned products?\n",
    "* What type of questions can I ask about Apple using the graph database?\n",
    "\n",
    "> The agent will pick different tools depending on the task.\n",
    "\n",
    "***\n",
    "\n",
    "Try modifying the `retrieval_query` to pull back additional data about the `Company` such as:\n",
    "\n",
    "* Asset managers - `(company:Company)<-[:OWNS]-(manager:AssetManager)`\n",
    "* Financial metrics - `(company:Company)-[:HAS_METRIC]->(metric:FinancialMetric)`\n",
    "* Products - `(company:Company)-[:MENTIONS]->(product:Product)`\n",
    "\n",
    "Including additional context will help the agent to create more specific responses.\n",
    "\n",
    "***\n",
    "\n",
    "[View the complete code](solutions/02_02_vector_graph_agent.py)"
   ]
  }
 ],
 "metadata": {
  "kernelspec": {
   "display_name": "Python 3",
   "language": "python",
   "name": "python3"
  },
  "language_info": {
   "codemirror_mode": {
    "name": "ipython",
    "version": 3
   },
   "file_extension": ".py",
   "mimetype": "text/x-python",
   "name": "python",
   "nbconvert_exporter": "python",
   "pygments_lexer": "ipython3",
   "version": "3.11.9"
  }
 },
 "nbformat": 4,
 "nbformat_minor": 5
}
